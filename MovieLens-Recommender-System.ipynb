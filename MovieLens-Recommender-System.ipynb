{
 "cells": [
  {
   "cell_type": "markdown",
   "metadata": {
    "id": "11DqhXjZ-2sf"
   },
   "source": [
    "# **Movie Recommender System**"
   ]
  },
  {
   "cell_type": "markdown",
   "metadata": {
    "id": "RJx-x4P638sJ"
   },
   "source": [
    "**Authors:**<br>\n",
    "Lucy Munge, Frank Mandele, Sylvester Magunda."
   ]
  },
  {
   "cell_type": "markdown",
   "metadata": {},
   "source": [
    "## **Project Overview:** \n",
    "**Building a Comprehensive Movie Recommendation System**\n",
    "\n",
    "In this project, our goal is to design and implement a versatile movie recommendation system employing three distinct techniques: a simple recommender, collaborative filtering, and content-based filtering. Leveraging the MovieLens dataset, we aim to provide users with personalized recommendations for the top 5 movies.\n",
    "\n",
    "The **simple recommender model** will prioritize movies based on their overall popularity. Utilizing metrics such as ratings count, reviews(user ratings) we will generate a list of top movies that have garnered widespread acclaim.\n",
    "\n",
    "The **collaborative filtering approach** takes center stage as our primary recommender. By analyzing user behavior and preferences, the system will identify similar users or movies, providing recommendations based on collective user experiences. This model is crucial for offering personalized suggestions rooted in user interactions.\n",
    "\n",
    "To tackle the **cold-start problem**, especially pertinent for new users and items, we will implement a **content-based filtering model**. This approach relies on the intrinsic features of movies, such as genre, director, and actors, to provide recommendations until sufficient user interaction data is accumulated.\n",
    "\n",
    "The project's success will be evaluated using established metrics such as RMSE and MAE scores, ensuring the effectiveness of each recommendation technique. By combining the strengths of these diverse models, our system aims to deliver accurate and user-centric movie recommendations, enhancing the overall user experience and addressing the challenges posed by the cold-start problem."
   ]
  },
  {
   "cell_type": "markdown",
   "metadata": {},
   "source": [
    "## **Business Understanding**"
   ]
  },
  {
   "cell_type": "markdown",
   "metadata": {},
   "source": [
    "Tazama, a leading streaming platform in the entertainment industry, is facing a critical business challenge in the era of personalized user experiences. The industry trend towards customized content consumption has heightened the demand for effective recommendation systems. In response, Tazama is aiming to elevate user satisfaction and engagement by implementing a robust movie recommendation system.\n",
    "\n",
    "The primary objective is to design and implement a recommendation system that accurately suggests the top 5 movies to each user based on their ratings of other films. Tazama intends to leverage the MovieLens dataset from the GroupLens research lab at the University of Minnesota, specifically focusing on the \"small\" dataset containing 100,000 user ratings. This dataset is viewed as a valuable resource for training the recommendation algorithm to understand user preferences and deliver personalized content suggestions.\n",
    "\n",
    "The successful implementation of this recommendation system is crucial to Tazama's user interface, as it will play a pivotal role in influencing the content users interact with on the platform. The effectiveness of the system directly impacts user satisfaction, retention, and overall engagement with the Tazama streaming service. Therefore, we have been tasked to develop an effective and accurate recommendation system that enhances the overall user experience, contributing to Tazama's competitive edge in the dynamic entertainment market.\n",
    "\n",
    "\n",
    "The project encompasses three primary recommendation techniques:\n",
    "\n",
    "Popularity-based Recommendations: By prioritizing movies based on their global popularity metrics, this technique ensures that users are exposed to widely acclaimed content. The goal is to set a consistent benchmark for user expectations.\n",
    "\n",
    "Collaborative Filtering as Core Recommender: Positioned as the primary recommender, collaborative filtering analyzes user behavior to identify similar users and movies. This method aims to provide personalized recommendations grounded in collective user experiences, measured by RMSE for accuracy.\n",
    "\n",
    "Content-Based Filtering for Cold-Start Mitigation: Addressing the challenge of new users or items with limited interaction data, our content-based model uses intrinsic movie features for relevant recommendations. This approach serves as an interim solution until user preferences are well-established, with RMSE as a metric for assessing recommendation accuracy.\n",
    "\n",
    "The success of the recommendation system will be evaluated predominantly using Root Mean Squared Error (RMSE). This metric will provide a consistent and comprehensive measure of the accuracy and effectiveness of each recommendation technique. Ultimately, our goal is to deliver precise and user-specific movie suggestions, ensuring a seamless and enjoyable entertainment experience for our users."
   ]
  },
  {
   "cell_type": "markdown",
   "metadata": {},
   "source": [
    "### Business Objective"
   ]
  },
  {
   "cell_type": "markdown",
   "metadata": {},
   "source": [
    "- Assess the efficiency of the recommendation algorithm in terms of training time and resource utilization. Ensure that the system can handle the dataset and provide real-time recommendations without excessive computational demands.\n",
    "- Evaluate the system's performance in scenarios where limited or no historical data is available for new users (cold start problem). Measure how well the recommender adapts to providing relevant suggestions for users with sparse or no rating history.\n",
    "- Analyze the effect of the recommender system on user retention. Compare retention rates before and after the system's implementation to determine if personalized recommendations positively influence users to continue using the Tazama platform.\n",
    "- Evaluate the impact of the recommender system on user engagement metrics. Track changes in user interaction patterns, including increased time spent on the platform, higher click-through rates, and a greater number of movies watched per session."
   ]
  },
  {
   "cell_type": "markdown",
   "metadata": {},
   "source": [
    "### Data Mining Objectives"
   ]
  },
  {
   "cell_type": "markdown",
   "metadata": {},
   "source": [
    "- Build a recommender system with 85% accuracy"
   ]
  },
  {
   "cell_type": "markdown",
   "metadata": {
    "id": "bMqwYIUvUg_i"
   },
   "source": [
    "## **Data Understanding**\n",
    "\n",
    "Our data source for this project is the MovieLens dataset, a comprehensive collection of user interactions with movies. The dataset includes key information such as user ratings, movie metadata, and user demographics. The link to the MovieLens dataset: https://grouplens.org/datasets/movielens/latest/.  The data are contained in four different files which are all loaded and viewed. The files are `movies.csv`, `ratings.csv`, `links.csv`, and `tags.csv`\n",
    "\n",
    "Variables like movie titles, genres, user IDs, and ratings form the core of our data, enabling us to capture user preferences and movie characteristics. Additionally, we have access to metadata encompassing movie details such as genres, tags, and release years. Here are some common columns found in the MovieLens datasets:\n",
    " - userId: An identifier for the user who provided the movie rating.\n",
    " - movieId: An identifier for the movie that was rated.\n",
    " - rating: The user's rating for a particular movie, often on a scale (e.g., 1 to 5 stars).\n",
    " - timestamp: The timestamp indicating when the rating was given by the user. It is usually in Unix epoch format.\n",
    " - title: The title of the movie.\n",
    " - genres: A list of genres associated with the movie. Movies can belong to multiple genres.\n",
    "\n",
    "To ensure the quality of our recommendations, we will conduct thorough data preprocessing, handling missing values and addressing potential outliers. Exploratory Data Analysis (EDA) will be employed to gain insights into the distribution of ratings, user engagement patterns, and feature correlations.\n",
    "\n",
    "Understanding the temporal aspects of the data, such as trends over time and seasonality, will further inform our recommendation strategies. Given the collaborative nature of our primary recommender, collaborative filtering, we'll delve into user-item interactions to identify patterns and similarities that contribute to accurate personalized recommendations.\n",
    "\n",
    "With a solid foundation in the MovieLens dataset, we aim to extract meaningful insights, optimize data quality, and lay the groundwork for effective implementation of our recommendation models.\n"
   ]
  },
  {
   "cell_type": "markdown",
   "metadata": {
    "id": "j7ps6_udWRyV"
   },
   "source": [
    "## **Data Preprocessing**\n",
    "### **Importing Libraries**"
   ]
  },
  {
   "cell_type": "code",
   "execution_count": 1,
   "metadata": {
    "id": "M2Ra0PHoYzo1"
   },
   "outputs": [],
   "source": [
    "# Import the necessary libraries\n",
    "# Basic Libraries\n",
    "import pandas as pd\n",
    "import numpy as np\n",
    "# Visualization Libraries\n",
    "import matplotlib.pyplot as plt\n",
    "import seaborn as sns\n",
    "sns.set_style('whitegrid')\n",
    "from math import sqrt\n",
    "from surprise import Dataset, Reader\n",
    "from surprise.model_selection import cross_validate\n",
    "from surprise.prediction_algorithms import SVD\n",
    "from surprise.prediction_algorithms import KNNWithMeans, KNNBasic, KNNBaseline\n",
    "from surprise.model_selection import GridSearchCV\n",
    "from sklearn.feature_extraction.text import TfidfVectorizer\n",
    "from sklearn.metrics.pairwise import linear_kernel, cosine_similarity\n",
    "from sklearn.feature_extraction.text import TfidfVectorizer\n",
    "from sklearn.metrics.pairwise import linear_kernel\n",
    "from sklearn.metrics import precision_score, recall_score\n",
    "from sklearn.model_selection import train_test_split\n",
    "from sklearn.neighbors import NearestNeighbors\n",
    "\n",
    "import warnings\n",
    "warnings.filterwarnings('ignore')"
   ]
  },
  {
   "cell_type": "markdown",
   "metadata": {
    "id": "Z3Ns_-AhcXB7"
   },
   "source": [
    "### **Loading Datasets**"
   ]
  },
  {
   "cell_type": "markdown",
   "metadata": {},
   "source": [
    "**1. Movies Dataset**"
   ]
  },
  {
   "cell_type": "code",
   "execution_count": 2,
   "metadata": {
    "colab": {
     "base_uri": "https://localhost:8080/",
     "height": 206
    },
    "id": "HXj030oWpHuI",
    "outputId": "f7e98c19-bcb6-44c2-9c00-312eb7b01f3b"
   },
   "outputs": [
    {
     "data": {
      "text/html": [
       "<div>\n",
       "<style scoped>\n",
       "    .dataframe tbody tr th:only-of-type {\n",
       "        vertical-align: middle;\n",
       "    }\n",
       "\n",
       "    .dataframe tbody tr th {\n",
       "        vertical-align: top;\n",
       "    }\n",
       "\n",
       "    .dataframe thead th {\n",
       "        text-align: right;\n",
       "    }\n",
       "</style>\n",
       "<table border=\"1\" class=\"dataframe\">\n",
       "  <thead>\n",
       "    <tr style=\"text-align: right;\">\n",
       "      <th></th>\n",
       "      <th>movieId</th>\n",
       "      <th>title</th>\n",
       "      <th>genres</th>\n",
       "    </tr>\n",
       "  </thead>\n",
       "  <tbody>\n",
       "    <tr>\n",
       "      <th>0</th>\n",
       "      <td>1</td>\n",
       "      <td>Toy Story (1995)</td>\n",
       "      <td>Adventure|Animation|Children|Comedy|Fantasy</td>\n",
       "    </tr>\n",
       "    <tr>\n",
       "      <th>1</th>\n",
       "      <td>2</td>\n",
       "      <td>Jumanji (1995)</td>\n",
       "      <td>Adventure|Children|Fantasy</td>\n",
       "    </tr>\n",
       "    <tr>\n",
       "      <th>2</th>\n",
       "      <td>3</td>\n",
       "      <td>Grumpier Old Men (1995)</td>\n",
       "      <td>Comedy|Romance</td>\n",
       "    </tr>\n",
       "    <tr>\n",
       "      <th>3</th>\n",
       "      <td>4</td>\n",
       "      <td>Waiting to Exhale (1995)</td>\n",
       "      <td>Comedy|Drama|Romance</td>\n",
       "    </tr>\n",
       "    <tr>\n",
       "      <th>4</th>\n",
       "      <td>5</td>\n",
       "      <td>Father of the Bride Part II (1995)</td>\n",
       "      <td>Comedy</td>\n",
       "    </tr>\n",
       "  </tbody>\n",
       "</table>\n",
       "</div>"
      ],
      "text/plain": [
       "   movieId                               title  \\\n",
       "0        1                    Toy Story (1995)   \n",
       "1        2                      Jumanji (1995)   \n",
       "2        3             Grumpier Old Men (1995)   \n",
       "3        4            Waiting to Exhale (1995)   \n",
       "4        5  Father of the Bride Part II (1995)   \n",
       "\n",
       "                                        genres  \n",
       "0  Adventure|Animation|Children|Comedy|Fantasy  \n",
       "1                   Adventure|Children|Fantasy  \n",
       "2                               Comedy|Romance  \n",
       "3                         Comedy|Drama|Romance  \n",
       "4                                       Comedy  "
      ]
     },
     "execution_count": 2,
     "metadata": {},
     "output_type": "execute_result"
    }
   ],
   "source": [
    "# load and view the first 5 rows of movies_csv \n",
    "movies_df = pd.read_csv('Data/movies.csv')\n",
    "movies_df.head()"
   ]
  },
  {
   "cell_type": "code",
   "execution_count": 3,
   "metadata": {
    "colab": {
     "base_uri": "https://localhost:8080/"
    },
    "id": "32I9L3Q7pdM5",
    "outputId": "784cf5ae-7a41-4019-a058-4b633f863c92"
   },
   "outputs": [
    {
     "name": "stdout",
     "output_type": "stream",
     "text": [
      "<class 'pandas.core.frame.DataFrame'>\n",
      "RangeIndex: 9742 entries, 0 to 9741\n",
      "Data columns (total 3 columns):\n",
      " #   Column   Non-Null Count  Dtype \n",
      "---  ------   --------------  ----- \n",
      " 0   movieId  9742 non-null   int64 \n",
      " 1   title    9742 non-null   object\n",
      " 2   genres   9742 non-null   object\n",
      "dtypes: int64(1), object(2)\n",
      "memory usage: 228.5+ KB\n"
     ]
    }
   ],
   "source": [
    "# check a concise summary of the dataset\n",
    "movies_df.info()"
   ]
  },
  {
   "cell_type": "markdown",
   "metadata": {},
   "source": [
    "**2. Ratings Dataset**"
   ]
  },
  {
   "cell_type": "code",
   "execution_count": 4,
   "metadata": {
    "colab": {
     "base_uri": "https://localhost:8080/",
     "height": 206
    },
    "id": "BPTgCEHUatVD",
    "outputId": "8af27794-bf48-4bc5-8a19-65174f341bf1"
   },
   "outputs": [
    {
     "data": {
      "text/html": [
       "<div>\n",
       "<style scoped>\n",
       "    .dataframe tbody tr th:only-of-type {\n",
       "        vertical-align: middle;\n",
       "    }\n",
       "\n",
       "    .dataframe tbody tr th {\n",
       "        vertical-align: top;\n",
       "    }\n",
       "\n",
       "    .dataframe thead th {\n",
       "        text-align: right;\n",
       "    }\n",
       "</style>\n",
       "<table border=\"1\" class=\"dataframe\">\n",
       "  <thead>\n",
       "    <tr style=\"text-align: right;\">\n",
       "      <th></th>\n",
       "      <th>userId</th>\n",
       "      <th>movieId</th>\n",
       "      <th>rating</th>\n",
       "      <th>timestamp</th>\n",
       "    </tr>\n",
       "  </thead>\n",
       "  <tbody>\n",
       "    <tr>\n",
       "      <th>0</th>\n",
       "      <td>1</td>\n",
       "      <td>1</td>\n",
       "      <td>4.0</td>\n",
       "      <td>964982703</td>\n",
       "    </tr>\n",
       "    <tr>\n",
       "      <th>1</th>\n",
       "      <td>1</td>\n",
       "      <td>3</td>\n",
       "      <td>4.0</td>\n",
       "      <td>964981247</td>\n",
       "    </tr>\n",
       "    <tr>\n",
       "      <th>2</th>\n",
       "      <td>1</td>\n",
       "      <td>6</td>\n",
       "      <td>4.0</td>\n",
       "      <td>964982224</td>\n",
       "    </tr>\n",
       "    <tr>\n",
       "      <th>3</th>\n",
       "      <td>1</td>\n",
       "      <td>47</td>\n",
       "      <td>5.0</td>\n",
       "      <td>964983815</td>\n",
       "    </tr>\n",
       "    <tr>\n",
       "      <th>4</th>\n",
       "      <td>1</td>\n",
       "      <td>50</td>\n",
       "      <td>5.0</td>\n",
       "      <td>964982931</td>\n",
       "    </tr>\n",
       "  </tbody>\n",
       "</table>\n",
       "</div>"
      ],
      "text/plain": [
       "   userId  movieId  rating  timestamp\n",
       "0       1        1     4.0  964982703\n",
       "1       1        3     4.0  964981247\n",
       "2       1        6     4.0  964982224\n",
       "3       1       47     5.0  964983815\n",
       "4       1       50     5.0  964982931"
      ]
     },
     "execution_count": 4,
     "metadata": {},
     "output_type": "execute_result"
    }
   ],
   "source": [
    "# load and view the first 5 rows of ratings_csv \n",
    "ratings_df = pd.read_csv('Data/ratings.csv')\n",
    "ratings_df.head()"
   ]
  },
  {
   "cell_type": "code",
   "execution_count": 5,
   "metadata": {
    "colab": {
     "base_uri": "https://localhost:8080/"
    },
    "id": "f7X0Pe3UatbC",
    "outputId": "1e6f0190-6f83-43f7-b59e-1cb7af8b7f9e"
   },
   "outputs": [
    {
     "name": "stdout",
     "output_type": "stream",
     "text": [
      "<class 'pandas.core.frame.DataFrame'>\n",
      "RangeIndex: 100836 entries, 0 to 100835\n",
      "Data columns (total 4 columns):\n",
      " #   Column     Non-Null Count   Dtype  \n",
      "---  ------     --------------   -----  \n",
      " 0   userId     100836 non-null  int64  \n",
      " 1   movieId    100836 non-null  int64  \n",
      " 2   rating     100836 non-null  float64\n",
      " 3   timestamp  100836 non-null  int64  \n",
      "dtypes: float64(1), int64(3)\n",
      "memory usage: 3.1 MB\n"
     ]
    }
   ],
   "source": [
    "# check a concise summary of the dataset\n",
    "ratings_df.info()"
   ]
  },
  {
   "cell_type": "markdown",
   "metadata": {},
   "source": [
    "**3. Links Dataset**"
   ]
  },
  {
   "cell_type": "code",
   "execution_count": 5,
   "metadata": {},
   "outputs": [
    {
     "data": {
      "text/html": [
       "<div>\n",
       "<style scoped>\n",
       "    .dataframe tbody tr th:only-of-type {\n",
       "        vertical-align: middle;\n",
       "    }\n",
       "\n",
       "    .dataframe tbody tr th {\n",
       "        vertical-align: top;\n",
       "    }\n",
       "\n",
       "    .dataframe thead th {\n",
       "        text-align: right;\n",
       "    }\n",
       "</style>\n",
       "<table border=\"1\" class=\"dataframe\">\n",
       "  <thead>\n",
       "    <tr style=\"text-align: right;\">\n",
       "      <th></th>\n",
       "      <th>movieId</th>\n",
       "      <th>imdbId</th>\n",
       "      <th>tmdbId</th>\n",
       "    </tr>\n",
       "  </thead>\n",
       "  <tbody>\n",
       "    <tr>\n",
       "      <th>0</th>\n",
       "      <td>1</td>\n",
       "      <td>114709</td>\n",
       "      <td>862.0</td>\n",
       "    </tr>\n",
       "    <tr>\n",
       "      <th>1</th>\n",
       "      <td>2</td>\n",
       "      <td>113497</td>\n",
       "      <td>8844.0</td>\n",
       "    </tr>\n",
       "    <tr>\n",
       "      <th>2</th>\n",
       "      <td>3</td>\n",
       "      <td>113228</td>\n",
       "      <td>15602.0</td>\n",
       "    </tr>\n",
       "    <tr>\n",
       "      <th>3</th>\n",
       "      <td>4</td>\n",
       "      <td>114885</td>\n",
       "      <td>31357.0</td>\n",
       "    </tr>\n",
       "    <tr>\n",
       "      <th>4</th>\n",
       "      <td>5</td>\n",
       "      <td>113041</td>\n",
       "      <td>11862.0</td>\n",
       "    </tr>\n",
       "  </tbody>\n",
       "</table>\n",
       "</div>"
      ],
      "text/plain": [
       "   movieId  imdbId   tmdbId\n",
       "0        1  114709    862.0\n",
       "1        2  113497   8844.0\n",
       "2        3  113228  15602.0\n",
       "3        4  114885  31357.0\n",
       "4        5  113041  11862.0"
      ]
     },
     "execution_count": 5,
     "metadata": {},
     "output_type": "execute_result"
    }
   ],
   "source": [
    "# load and view the first 5 rows of links_csv \n",
    "links_df = pd.read_csv('Data/links.csv')\n",
    "links_df.head()"
   ]
  },
  {
   "cell_type": "code",
   "execution_count": 7,
   "metadata": {},
   "outputs": [
    {
     "name": "stdout",
     "output_type": "stream",
     "text": [
      "<class 'pandas.core.frame.DataFrame'>\n",
      "RangeIndex: 9742 entries, 0 to 9741\n",
      "Data columns (total 3 columns):\n",
      " #   Column   Non-Null Count  Dtype  \n",
      "---  ------   --------------  -----  \n",
      " 0   movieId  9742 non-null   int64  \n",
      " 1   imdbId   9742 non-null   int64  \n",
      " 2   tmdbId   9734 non-null   float64\n",
      "dtypes: float64(1), int64(2)\n",
      "memory usage: 228.5 KB\n"
     ]
    }
   ],
   "source": [
    "# check a concise summary of the dataset\n",
    "links_df.info()"
   ]
  },
  {
   "cell_type": "markdown",
   "metadata": {},
   "source": [
    "**4. Tags Dataset**"
   ]
  },
  {
   "cell_type": "code",
   "execution_count": 6,
   "metadata": {},
   "outputs": [
    {
     "data": {
      "text/html": [
       "<div>\n",
       "<style scoped>\n",
       "    .dataframe tbody tr th:only-of-type {\n",
       "        vertical-align: middle;\n",
       "    }\n",
       "\n",
       "    .dataframe tbody tr th {\n",
       "        vertical-align: top;\n",
       "    }\n",
       "\n",
       "    .dataframe thead th {\n",
       "        text-align: right;\n",
       "    }\n",
       "</style>\n",
       "<table border=\"1\" class=\"dataframe\">\n",
       "  <thead>\n",
       "    <tr style=\"text-align: right;\">\n",
       "      <th></th>\n",
       "      <th>userId</th>\n",
       "      <th>movieId</th>\n",
       "      <th>tag</th>\n",
       "      <th>timestamp</th>\n",
       "    </tr>\n",
       "  </thead>\n",
       "  <tbody>\n",
       "    <tr>\n",
       "      <th>0</th>\n",
       "      <td>2</td>\n",
       "      <td>60756</td>\n",
       "      <td>funny</td>\n",
       "      <td>1445714994</td>\n",
       "    </tr>\n",
       "    <tr>\n",
       "      <th>1</th>\n",
       "      <td>2</td>\n",
       "      <td>60756</td>\n",
       "      <td>Highly quotable</td>\n",
       "      <td>1445714996</td>\n",
       "    </tr>\n",
       "    <tr>\n",
       "      <th>2</th>\n",
       "      <td>2</td>\n",
       "      <td>60756</td>\n",
       "      <td>will ferrell</td>\n",
       "      <td>1445714992</td>\n",
       "    </tr>\n",
       "    <tr>\n",
       "      <th>3</th>\n",
       "      <td>2</td>\n",
       "      <td>89774</td>\n",
       "      <td>Boxing story</td>\n",
       "      <td>1445715207</td>\n",
       "    </tr>\n",
       "    <tr>\n",
       "      <th>4</th>\n",
       "      <td>2</td>\n",
       "      <td>89774</td>\n",
       "      <td>MMA</td>\n",
       "      <td>1445715200</td>\n",
       "    </tr>\n",
       "  </tbody>\n",
       "</table>\n",
       "</div>"
      ],
      "text/plain": [
       "   userId  movieId              tag   timestamp\n",
       "0       2    60756            funny  1445714994\n",
       "1       2    60756  Highly quotable  1445714996\n",
       "2       2    60756     will ferrell  1445714992\n",
       "3       2    89774     Boxing story  1445715207\n",
       "4       2    89774              MMA  1445715200"
      ]
     },
     "execution_count": 6,
     "metadata": {},
     "output_type": "execute_result"
    }
   ],
   "source": [
    "# load and view the first 5 rows of tags_csv \n",
    "tags_df = pd.read_csv('Data/tags.csv')\n",
    "tags_df.head()"
   ]
  },
  {
   "cell_type": "code",
   "execution_count": 7,
   "metadata": {},
   "outputs": [
    {
     "name": "stdout",
     "output_type": "stream",
     "text": [
      "<class 'pandas.core.frame.DataFrame'>\n",
      "RangeIndex: 3683 entries, 0 to 3682\n",
      "Data columns (total 4 columns):\n",
      " #   Column     Non-Null Count  Dtype \n",
      "---  ------     --------------  ----- \n",
      " 0   userId     3683 non-null   int64 \n",
      " 1   movieId    3683 non-null   int64 \n",
      " 2   tag        3683 non-null   object\n",
      " 3   timestamp  3683 non-null   int64 \n",
      "dtypes: int64(3), object(1)\n",
      "memory usage: 115.2+ KB\n"
     ]
    }
   ],
   "source": [
    "# check a concise summary of the dataset\n",
    "tags_df.info()"
   ]
  },
  {
   "cell_type": "markdown",
   "metadata": {
    "id": "feYCMrL71ktW"
   },
   "source": [
    "Some observations from dataset:\n",
    "- There are no missing values in the dataset that we will be using i.e. `tags.csv`, `movies.csv`, and `ratings.csv` which is quite good.\n",
    "- we will delve further into inspecting the data in the next section to get a clear picture of our datasets and see what we can unearth."
   ]
  },
  {
   "cell_type": "markdown",
   "metadata": {
    "id": "dYtIbFW5j25i"
   },
   "source": [
    "### **Exploratory Data Analysis and Data Cleaning**"
   ]
  },
  {
   "cell_type": "code",
   "execution_count": 10,
   "metadata": {},
   "outputs": [
    {
     "data": {
      "image/png": "[encoded data removed]",
      "text/plain": [
       "<Figure size 432x288 with 1 Axes>"
      ]
     },
     "metadata": {},
     "output_type": "display_data"
    }
   ],
   "source": [
    "# create a distribution plot for users rating\n",
    "sns.distplot(ratings_df[\"rating\"]);\n",
    "plt.savefig(\"./images/distributionplot.png\", dpi=300)"
   ]
  },
  {
   "cell_type": "markdown",
   "metadata": {},
   "source": [
    "On the whole, the majority of movies received a rating of 4, indicating a prevalent positive sentiment among viewers. In contrast, ratings of 0.5 were the least common, suggesting that very few movies garnered such low evaluations from users."
   ]
  },
  {
   "cell_type": "code",
   "execution_count": 11,
   "metadata": {
    "colab": {
     "base_uri": "https://localhost:8080/",
     "height": 424
    },
    "id": "4X9eLLnGjyZL",
    "outputId": "e751c8b6-136a-472f-e0f1-f7409dc2a2af"
   },
   "outputs": [
    {
     "data": {
      "text/html": [
       "<div>\n",
       "<style scoped>\n",
       "    .dataframe tbody tr th:only-of-type {\n",
       "        vertical-align: middle;\n",
       "    }\n",
       "\n",
       "    .dataframe tbody tr th {\n",
       "        vertical-align: top;\n",
       "    }\n",
       "\n",
       "    .dataframe thead th {\n",
       "        text-align: right;\n",
       "    }\n",
       "</style>\n",
       "<table border=\"1\" class=\"dataframe\">\n",
       "  <thead>\n",
       "    <tr style=\"text-align: right;\">\n",
       "      <th></th>\n",
       "      <th>movieId</th>\n",
       "      <th>title</th>\n",
       "      <th>genres</th>\n",
       "      <th>userId</th>\n",
       "      <th>rating</th>\n",
       "      <th>timestamp</th>\n",
       "    </tr>\n",
       "  </thead>\n",
       "  <tbody>\n",
       "    <tr>\n",
       "      <th>0</th>\n",
       "      <td>1</td>\n",
       "      <td>Toy Story (1995)</td>\n",
       "      <td>Adventure|Animation|Children|Comedy|Fantasy</td>\n",
       "      <td>1</td>\n",
       "      <td>4.0</td>\n",
       "      <td>964982703</td>\n",
       "    </tr>\n",
       "    <tr>\n",
       "      <th>1</th>\n",
       "      <td>1</td>\n",
       "      <td>Toy Story (1995)</td>\n",
       "      <td>Adventure|Animation|Children|Comedy|Fantasy</td>\n",
       "      <td>5</td>\n",
       "      <td>4.0</td>\n",
       "      <td>847434962</td>\n",
       "    </tr>\n",
       "    <tr>\n",
       "      <th>2</th>\n",
       "      <td>1</td>\n",
       "      <td>Toy Story (1995)</td>\n",
       "      <td>Adventure|Animation|Children|Comedy|Fantasy</td>\n",
       "      <td>7</td>\n",
       "      <td>4.5</td>\n",
       "      <td>1106635946</td>\n",
       "    </tr>\n",
       "    <tr>\n",
       "      <th>3</th>\n",
       "      <td>1</td>\n",
       "      <td>Toy Story (1995)</td>\n",
       "      <td>Adventure|Animation|Children|Comedy|Fantasy</td>\n",
       "      <td>15</td>\n",
       "      <td>2.5</td>\n",
       "      <td>1510577970</td>\n",
       "    </tr>\n",
       "    <tr>\n",
       "      <th>4</th>\n",
       "      <td>1</td>\n",
       "      <td>Toy Story (1995)</td>\n",
       "      <td>Adventure|Animation|Children|Comedy|Fantasy</td>\n",
       "      <td>17</td>\n",
       "      <td>4.5</td>\n",
       "      <td>1305696483</td>\n",
       "    </tr>\n",
       "    <tr>\n",
       "      <th>...</th>\n",
       "      <td>...</td>\n",
       "      <td>...</td>\n",
       "      <td>...</td>\n",
       "      <td>...</td>\n",
       "      <td>...</td>\n",
       "      <td>...</td>\n",
       "    </tr>\n",
       "    <tr>\n",
       "      <th>100831</th>\n",
       "      <td>193581</td>\n",
       "      <td>Black Butler: Book of the Atlantic (2017)</td>\n",
       "      <td>Action|Animation|Comedy|Fantasy</td>\n",
       "      <td>184</td>\n",
       "      <td>4.0</td>\n",
       "      <td>1537109082</td>\n",
       "    </tr>\n",
       "    <tr>\n",
       "      <th>100832</th>\n",
       "      <td>193583</td>\n",
       "      <td>No Game No Life: Zero (2017)</td>\n",
       "      <td>Animation|Comedy|Fantasy</td>\n",
       "      <td>184</td>\n",
       "      <td>3.5</td>\n",
       "      <td>1537109545</td>\n",
       "    </tr>\n",
       "    <tr>\n",
       "      <th>100833</th>\n",
       "      <td>193585</td>\n",
       "      <td>Flint (2017)</td>\n",
       "      <td>Drama</td>\n",
       "      <td>184</td>\n",
       "      <td>3.5</td>\n",
       "      <td>1537109805</td>\n",
       "    </tr>\n",
       "    <tr>\n",
       "      <th>100834</th>\n",
       "      <td>193587</td>\n",
       "      <td>Bungo Stray Dogs: Dead Apple (2018)</td>\n",
       "      <td>Action|Animation</td>\n",
       "      <td>184</td>\n",
       "      <td>3.5</td>\n",
       "      <td>1537110021</td>\n",
       "    </tr>\n",
       "    <tr>\n",
       "      <th>100835</th>\n",
       "      <td>193609</td>\n",
       "      <td>Andrew Dice Clay: Dice Rules (1991)</td>\n",
       "      <td>Comedy</td>\n",
       "      <td>331</td>\n",
       "      <td>4.0</td>\n",
       "      <td>1537157606</td>\n",
       "    </tr>\n",
       "  </tbody>\n",
       "</table>\n",
       "<p>100836 rows × 6 columns</p>\n",
       "</div>"
      ],
      "text/plain": [
       "        movieId                                      title  \\\n",
       "0             1                           Toy Story (1995)   \n",
       "1             1                           Toy Story (1995)   \n",
       "2             1                           Toy Story (1995)   \n",
       "3             1                           Toy Story (1995)   \n",
       "4             1                           Toy Story (1995)   \n",
       "...         ...                                        ...   \n",
       "100831   193581  Black Butler: Book of the Atlantic (2017)   \n",
       "100832   193583               No Game No Life: Zero (2017)   \n",
       "100833   193585                               Flint (2017)   \n",
       "100834   193587        Bungo Stray Dogs: Dead Apple (2018)   \n",
       "100835   193609        Andrew Dice Clay: Dice Rules (1991)   \n",
       "\n",
       "                                             genres  userId  rating  \\\n",
       "0       Adventure|Animation|Children|Comedy|Fantasy       1     4.0   \n",
       "1       Adventure|Animation|Children|Comedy|Fantasy       5     4.0   \n",
       "2       Adventure|Animation|Children|Comedy|Fantasy       7     4.5   \n",
       "3       Adventure|Animation|Children|Comedy|Fantasy      15     2.5   \n",
       "4       Adventure|Animation|Children|Comedy|Fantasy      17     4.5   \n",
       "...                                             ...     ...     ...   \n",
       "100831              Action|Animation|Comedy|Fantasy     184     4.0   \n",
       "100832                     Animation|Comedy|Fantasy     184     3.5   \n",
       "100833                                        Drama     184     3.5   \n",
       "100834                             Action|Animation     184     3.5   \n",
       "100835                                       Comedy     331     4.0   \n",
       "\n",
       "         timestamp  \n",
       "0        964982703  \n",
       "1        847434962  \n",
       "2       1106635946  \n",
       "3       1510577970  \n",
       "4       1305696483  \n",
       "...            ...  \n",
       "100831  1537109082  \n",
       "100832  1537109545  \n",
       "100833  1537109805  \n",
       "100834  1537110021  \n",
       "100835  1537157606  \n",
       "\n",
       "[100836 rows x 6 columns]"
      ]
     },
     "execution_count": 11,
     "metadata": {},
     "output_type": "execute_result"
    }
   ],
   "source": [
    "# merge ratings_df and movies_df\n",
    "\n",
    "merged_df = pd.merge(movies_df, ratings_df, on='movieId', how='inner')\n",
    "merged_df"
   ]
  },
  {
   "cell_type": "code",
   "execution_count": 12,
   "metadata": {
    "id": "3At1hU3rzA75"
   },
   "outputs": [],
   "source": [
    "# drop the timestamp column\n",
    "merged_df = merged_df.drop('timestamp', axis=1)"
   ]
  },
  {
   "cell_type": "markdown",
   "metadata": {},
   "source": [
    "- ratings_df  has **timestamp** column. We dont use this feature for the future analysis. It can therefore be dropped."
   ]
  },
  {
   "cell_type": "code",
   "execution_count": 13,
   "metadata": {
    "colab": {
     "base_uri": "https://localhost:8080/"
    },
    "id": "C9CtLczrjyfF",
    "outputId": "7784097a-3e52-468f-9417-a6f31b6cca6f"
   },
   "outputs": [
    {
     "name": "stdout",
     "output_type": "stream",
     "text": [
      "<class 'pandas.core.frame.DataFrame'>\n",
      "Int64Index: 100836 entries, 0 to 100835\n",
      "Data columns (total 5 columns):\n",
      " #   Column   Non-Null Count   Dtype  \n",
      "---  ------   --------------   -----  \n",
      " 0   movieId  100836 non-null  int64  \n",
      " 1   title    100836 non-null  object \n",
      " 2   genres   100836 non-null  object \n",
      " 3   userId   100836 non-null  int64  \n",
      " 4   rating   100836 non-null  float64\n",
      "dtypes: float64(1), int64(2), object(2)\n",
      "memory usage: 4.6+ MB\n"
     ]
    }
   ],
   "source": [
    "# check a concise summary of the merged dataset\n",
    "merged_df.info()"
   ]
  },
  {
   "cell_type": "code",
   "execution_count": 14,
   "metadata": {},
   "outputs": [
    {
     "data": {
      "text/plain": [
       "movieId    0\n",
       "title      0\n",
       "genres     0\n",
       "userId     0\n",
       "rating     0\n",
       "dtype: int64"
      ]
     },
     "execution_count": 14,
     "metadata": {},
     "output_type": "execute_result"
    }
   ],
   "source": [
    "# check for null values\n",
    "merged_df.isna().sum()"
   ]
  },
  {
   "cell_type": "markdown",
   "metadata": {},
   "source": [
    "- There are no null values in the merged dataset\n",
    "- The dropping was successfull because the number of columns reduced from 6 to 5"
   ]
  },
  {
   "cell_type": "code",
   "execution_count": 15,
   "metadata": {
    "colab": {
     "base_uri": "https://localhost:8080/"
    },
    "id": "go9sQQEPNw1e",
    "outputId": "3e45d6d8-877a-4ff0-a320-efdc0a477d1b"
   },
   "outputs": [
    {
     "data": {
      "text/plain": [
       "414    2698\n",
       "599    2478\n",
       "474    2108\n",
       "448    1864\n",
       "274    1346\n",
       "       ... \n",
       "406      20\n",
       "595      20\n",
       "569      20\n",
       "431      20\n",
       "442      20\n",
       "Name: userId, Length: 610, dtype: int64"
      ]
     },
     "execution_count": 15,
     "metadata": {},
     "output_type": "execute_result"
    }
   ],
   "source": [
    "# check the total value of each unique element in the userId column\n",
    "merged_df['userId'].value_counts()"
   ]
  },
  {
   "cell_type": "markdown",
   "metadata": {},
   "source": [
    "- **userId 414** is the most popular user in the dataset, appearing 2698 times. There are several number of users appearing least in the dataset, that is 20 times."
   ]
  },
  {
   "cell_type": "code",
   "execution_count": 16,
   "metadata": {
    "colab": {
     "base_uri": "https://localhost:8080/"
    },
    "id": "vy60TiMlOmxs",
    "outputId": "61339e94-246d-4b26-8920-e0b0fdf61d41"
   },
   "outputs": [
    {
     "data": {
      "text/plain": [
       "array(['1995', '1994', '1996', '1976', '1992', '1967', '1993', '1964',\n",
       "       '1977', '1965', '1982', '1990', '1991', '1989', '1937', '1940',\n",
       "       '1969', '1981', '1973', '1970', '1955', '1959', '1968', '1988',\n",
       "       '1997', '1972', '1943', '1952', '1951', '1957', '1961', '1958',\n",
       "       '1954', '1934', '1944', '1960', '1963', '1942', '1941', '1953',\n",
       "       '1939', '1950', '1946', '1945', '1938', '1947', '1935', '1936',\n",
       "       '1956', '1949', '1932', '1975', '1974', '1971', '1979', '1987',\n",
       "       '1986', '1980', '1978', '1985', '1966', '1962', '1983', '1984',\n",
       "       '1948', '1933', '1931', '1922', '1998', '1929', '1930', '1927',\n",
       "       '1928', '1999', '2000', '1926', '1919', '1921', '1925', '1923',\n",
       "       '2001', '2002', '2003', '1920', '1915', '1924', '2004', '1916',\n",
       "       '1917', '2005', '2006', '1902', nan, '1903', '2007', '2008',\n",
       "       '2009', '2010', '2011', '2012', '2013', '2014', '2015', '2016',\n",
       "       '2017', '2018', '1908', '2006–2007'], dtype=object)"
      ]
     },
     "execution_count": 16,
     "metadata": {},
     "output_type": "execute_result"
    }
   ],
   "source": [
    "# removing release year from movie title\n",
    "merged_df['year'] = merged_df['title'].str.extract('.*\\((.*)\\).*',expand = False)\n",
    "merged_df['year'].unique()"
   ]
  },
  {
   "cell_type": "code",
   "execution_count": 17,
   "metadata": {
    "colab": {
     "base_uri": "https://localhost:8080/"
    },
    "id": "t0CXeIcnO7OK",
    "outputId": "1a1fdfff-4c19-40da-e58e-6279559755a3"
   },
   "outputs": [
    {
     "data": {
      "text/plain": [
       "array(['1995', '1994', '1996', '1976', '1992', '1967', '1993', '1964',\n",
       "       '1977', '1965', '1982', '1990', '1991', '1989', '1937', '1940',\n",
       "       '1969', '1981', '1973', '1970', '1955', '1959', '1968', '1988',\n",
       "       '1997', '1972', '1943', '1952', '1951', '1957', '1961', '1958',\n",
       "       '1954', '1934', '1944', '1960', '1963', '1942', '1941', '1953',\n",
       "       '1939', '1950', '1946', '1945', '1938', '1947', '1935', '1936',\n",
       "       '1956', '1949', '1932', '1975', '1974', '1971', '1979', '1987',\n",
       "       '1986', '1980', '1978', '1985', '1966', '1962', '1983', '1984',\n",
       "       '1948', '1933', '1931', '1922', '1998', '1929', '1930', '1927',\n",
       "       '1928', '1999', '2000', '1926', '1919', '1921', '1925', '1923',\n",
       "       '2001', '2002', '2003', '1920', '1915', '1924', '2004', '1916',\n",
       "       '1917', '2005', '2006', '1902', nan, '1903', '2007', '2008',\n",
       "       '2009', '2010', '2011', '2012', '2013', '2014', '2015', '2016',\n",
       "       '2017', '2018', '1908'], dtype=object)"
      ]
     },
     "execution_count": 17,
     "metadata": {},
     "output_type": "execute_result"
    }
   ],
   "source": [
    "# changing 2006-2007 to 2007\n",
    "merged_df['year'] = merged_df['year'].replace('2006–2007','2007')\n",
    "merged_df['year'].unique()"
   ]
  },
  {
   "cell_type": "markdown",
   "metadata": {},
   "source": [
    "- Logically, if a movie was released between 2006 and 2007 then the latest year serves as the release year. We didn't drop the record since we wanted to stick with the original data as much as possible for accuracy purposes."
   ]
  },
  {
   "cell_type": "code",
   "execution_count": 18,
   "metadata": {},
   "outputs": [
    {
     "data": {
      "text/plain": [
       "movieId     0\n",
       "title       0\n",
       "genres      0\n",
       "userId      0\n",
       "rating      0\n",
       "year       17\n",
       "dtype: int64"
      ]
     },
     "execution_count": 18,
     "metadata": {},
     "output_type": "execute_result"
    }
   ],
   "source": [
    "# checking for null values in the new dataset\n",
    "merged_df.isna().sum()"
   ]
  },
  {
   "cell_type": "markdown",
   "metadata": {},
   "source": [
    "- The year column has 17 null values"
   ]
  },
  {
   "cell_type": "code",
   "execution_count": 19,
   "metadata": {
    "colab": {
     "base_uri": "https://localhost:8080/",
     "height": 582
    },
    "id": "4b2PKkOTPi3F",
    "outputId": "e2a5aed6-9078-44d6-c49b-67b8133b7032"
   },
   "outputs": [
    {
     "data": {
      "text/html": [
       "<div>\n",
       "<style scoped>\n",
       "    .dataframe tbody tr th:only-of-type {\n",
       "        vertical-align: middle;\n",
       "    }\n",
       "\n",
       "    .dataframe tbody tr th {\n",
       "        vertical-align: top;\n",
       "    }\n",
       "\n",
       "    .dataframe thead th {\n",
       "        text-align: right;\n",
       "    }\n",
       "</style>\n",
       "<table border=\"1\" class=\"dataframe\">\n",
       "  <thead>\n",
       "    <tr style=\"text-align: right;\">\n",
       "      <th></th>\n",
       "      <th>movieId</th>\n",
       "      <th>title</th>\n",
       "      <th>genres</th>\n",
       "      <th>userId</th>\n",
       "      <th>rating</th>\n",
       "      <th>year</th>\n",
       "    </tr>\n",
       "  </thead>\n",
       "  <tbody>\n",
       "    <tr>\n",
       "      <th>81292</th>\n",
       "      <td>40697</td>\n",
       "      <td>Babylon 5</td>\n",
       "      <td>Sci-Fi</td>\n",
       "      <td>210</td>\n",
       "      <td>4.0</td>\n",
       "      <td>NaN</td>\n",
       "    </tr>\n",
       "    <tr>\n",
       "      <th>81293</th>\n",
       "      <td>40697</td>\n",
       "      <td>Babylon 5</td>\n",
       "      <td>Sci-Fi</td>\n",
       "      <td>528</td>\n",
       "      <td>0.5</td>\n",
       "      <td>NaN</td>\n",
       "    </tr>\n",
       "    <tr>\n",
       "      <th>99325</th>\n",
       "      <td>140956</td>\n",
       "      <td>Ready Player One</td>\n",
       "      <td>Action|Sci-Fi|Thriller</td>\n",
       "      <td>209</td>\n",
       "      <td>3.5</td>\n",
       "      <td>NaN</td>\n",
       "    </tr>\n",
       "    <tr>\n",
       "      <th>99326</th>\n",
       "      <td>140956</td>\n",
       "      <td>Ready Player One</td>\n",
       "      <td>Action|Sci-Fi|Thriller</td>\n",
       "      <td>305</td>\n",
       "      <td>4.5</td>\n",
       "      <td>NaN</td>\n",
       "    </tr>\n",
       "    <tr>\n",
       "      <th>99327</th>\n",
       "      <td>140956</td>\n",
       "      <td>Ready Player One</td>\n",
       "      <td>Action|Sci-Fi|Thriller</td>\n",
       "      <td>380</td>\n",
       "      <td>3.0</td>\n",
       "      <td>NaN</td>\n",
       "    </tr>\n",
       "    <tr>\n",
       "      <th>99328</th>\n",
       "      <td>140956</td>\n",
       "      <td>Ready Player One</td>\n",
       "      <td>Action|Sci-Fi|Thriller</td>\n",
       "      <td>514</td>\n",
       "      <td>3.0</td>\n",
       "      <td>NaN</td>\n",
       "    </tr>\n",
       "    <tr>\n",
       "      <th>99459</th>\n",
       "      <td>143410</td>\n",
       "      <td>Hyena Road</td>\n",
       "      <td>(no genres listed)</td>\n",
       "      <td>448</td>\n",
       "      <td>2.0</td>\n",
       "      <td>NaN</td>\n",
       "    </tr>\n",
       "    <tr>\n",
       "      <th>99526</th>\n",
       "      <td>147250</td>\n",
       "      <td>The Adventures of Sherlock Holmes and Doctor W...</td>\n",
       "      <td>(no genres listed)</td>\n",
       "      <td>105</td>\n",
       "      <td>5.0</td>\n",
       "      <td>NaN</td>\n",
       "    </tr>\n",
       "    <tr>\n",
       "      <th>99617</th>\n",
       "      <td>149334</td>\n",
       "      <td>Nocturnal Animals</td>\n",
       "      <td>Drama|Thriller</td>\n",
       "      <td>306</td>\n",
       "      <td>3.0</td>\n",
       "      <td>NaN</td>\n",
       "    </tr>\n",
       "    <tr>\n",
       "      <th>99799</th>\n",
       "      <td>156605</td>\n",
       "      <td>Paterson</td>\n",
       "      <td>(no genres listed)</td>\n",
       "      <td>567</td>\n",
       "      <td>4.5</td>\n",
       "      <td>NaN</td>\n",
       "    </tr>\n",
       "    <tr>\n",
       "      <th>100051</th>\n",
       "      <td>162414</td>\n",
       "      <td>Moonlight</td>\n",
       "      <td>Drama</td>\n",
       "      <td>462</td>\n",
       "      <td>5.0</td>\n",
       "      <td>NaN</td>\n",
       "    </tr>\n",
       "    <tr>\n",
       "      <th>100269</th>\n",
       "      <td>167570</td>\n",
       "      <td>The OA</td>\n",
       "      <td>(no genres listed)</td>\n",
       "      <td>414</td>\n",
       "      <td>4.0</td>\n",
       "      <td>NaN</td>\n",
       "    </tr>\n",
       "    <tr>\n",
       "      <th>100426</th>\n",
       "      <td>171495</td>\n",
       "      <td>Cosmos</td>\n",
       "      <td>(no genres listed)</td>\n",
       "      <td>318</td>\n",
       "      <td>5.0</td>\n",
       "      <td>NaN</td>\n",
       "    </tr>\n",
       "    <tr>\n",
       "      <th>100427</th>\n",
       "      <td>171495</td>\n",
       "      <td>Cosmos</td>\n",
       "      <td>(no genres listed)</td>\n",
       "      <td>599</td>\n",
       "      <td>4.0</td>\n",
       "      <td>NaN</td>\n",
       "    </tr>\n",
       "    <tr>\n",
       "      <th>100428</th>\n",
       "      <td>171631</td>\n",
       "      <td>Maria Bamford: Old Baby</td>\n",
       "      <td>(no genres listed)</td>\n",
       "      <td>111</td>\n",
       "      <td>1.0</td>\n",
       "      <td>NaN</td>\n",
       "    </tr>\n",
       "    <tr>\n",
       "      <th>100448</th>\n",
       "      <td>171891</td>\n",
       "      <td>Generation Iron 2</td>\n",
       "      <td>(no genres listed)</td>\n",
       "      <td>111</td>\n",
       "      <td>3.5</td>\n",
       "      <td>NaN</td>\n",
       "    </tr>\n",
       "    <tr>\n",
       "      <th>100601</th>\n",
       "      <td>176601</td>\n",
       "      <td>Black Mirror</td>\n",
       "      <td>(no genres listed)</td>\n",
       "      <td>62</td>\n",
       "      <td>5.0</td>\n",
       "      <td>NaN</td>\n",
       "    </tr>\n",
       "  </tbody>\n",
       "</table>\n",
       "</div>"
      ],
      "text/plain": [
       "        movieId                                              title  \\\n",
       "81292     40697                                          Babylon 5   \n",
       "81293     40697                                          Babylon 5   \n",
       "99325    140956                                   Ready Player One   \n",
       "99326    140956                                   Ready Player One   \n",
       "99327    140956                                   Ready Player One   \n",
       "99328    140956                                   Ready Player One   \n",
       "99459    143410                                         Hyena Road   \n",
       "99526    147250  The Adventures of Sherlock Holmes and Doctor W...   \n",
       "99617    149334                                  Nocturnal Animals   \n",
       "99799    156605                                           Paterson   \n",
       "100051   162414                                          Moonlight   \n",
       "100269   167570                                             The OA   \n",
       "100426   171495                                             Cosmos   \n",
       "100427   171495                                             Cosmos   \n",
       "100428   171631                            Maria Bamford: Old Baby   \n",
       "100448   171891                                  Generation Iron 2   \n",
       "100601   176601                                       Black Mirror   \n",
       "\n",
       "                        genres  userId  rating year  \n",
       "81292                   Sci-Fi     210     4.0  NaN  \n",
       "81293                   Sci-Fi     528     0.5  NaN  \n",
       "99325   Action|Sci-Fi|Thriller     209     3.5  NaN  \n",
       "99326   Action|Sci-Fi|Thriller     305     4.5  NaN  \n",
       "99327   Action|Sci-Fi|Thriller     380     3.0  NaN  \n",
       "99328   Action|Sci-Fi|Thriller     514     3.0  NaN  \n",
       "99459       (no genres listed)     448     2.0  NaN  \n",
       "99526       (no genres listed)     105     5.0  NaN  \n",
       "99617           Drama|Thriller     306     3.0  NaN  \n",
       "99799       (no genres listed)     567     4.5  NaN  \n",
       "100051                   Drama     462     5.0  NaN  \n",
       "100269      (no genres listed)     414     4.0  NaN  \n",
       "100426      (no genres listed)     318     5.0  NaN  \n",
       "100427      (no genres listed)     599     4.0  NaN  \n",
       "100428      (no genres listed)     111     1.0  NaN  \n",
       "100448      (no genres listed)     111     3.5  NaN  \n",
       "100601      (no genres listed)      62     5.0  NaN  "
      ]
     },
     "execution_count": 19,
     "metadata": {},
     "output_type": "execute_result"
    }
   ],
   "source": [
    "# view the records with no year values\n",
    "nullyears_df = merged_df[pd.isna(merged_df['year'])]\n",
    "nullyears_df"
   ]
  },
  {
   "cell_type": "code",
   "execution_count": 20,
   "metadata": {
    "colab": {
     "base_uri": "https://localhost:8080/"
    },
    "id": "SxU7MBqOnvzk",
    "outputId": "6f7a2284-5775-4432-c8e1-609b6647c558"
   },
   "outputs": [
    {
     "data": {
      "text/plain": [
       "array(['1995', '1994', '1996', '1976', '1992', '1967', '1993', '1964',\n",
       "       '1977', '1965', '1982', '1990', '1991', '1989', '1937', '1940',\n",
       "       '1969', '1981', '1973', '1970', '1955', '1959', '1968', '1988',\n",
       "       '1997', '1972', '1943', '1952', '1951', '1957', '1961', '1958',\n",
       "       '1954', '1934', '1944', '1960', '1963', '1942', '1941', '1953',\n",
       "       '1939', '1950', '1946', '1945', '1938', '1947', '1935', '1936',\n",
       "       '1956', '1949', '1932', '1975', '1974', '1971', '1979', '1987',\n",
       "       '1986', '1980', '1978', '1985', '1966', '1962', '1983', '1984',\n",
       "       '1948', '1933', '1931', '1922', '1998', '1929', '1930', '1927',\n",
       "       '1928', '1999', '2000', '1926', '1919', '1921', '1925', '1923',\n",
       "       '2001', '2002', '2003', '1920', '1915', '1924', '2004', '1916',\n",
       "       '1917', '2005', '2006', '1902', '1903', '2007', '2008', '2009',\n",
       "       '2010', '2011', '2012', '2013', '2014', '2015', '2016', '2017',\n",
       "       '2018', '1908'], dtype=object)"
      ]
     },
     "execution_count": 20,
     "metadata": {},
     "output_type": "execute_result"
    }
   ],
   "source": [
    "# drop the records that don't have release year\n",
    "merged_df = merged_df.dropna(subset=['year'],how='any')\n",
    "merged_df['year'].unique()"
   ]
  },
  {
   "cell_type": "code",
   "execution_count": 21,
   "metadata": {},
   "outputs": [
    {
     "name": "stdout",
     "output_type": "stream",
     "text": [
      "<class 'pandas.core.frame.DataFrame'>\n",
      "Int64Index: 100819 entries, 0 to 100835\n",
      "Data columns (total 6 columns):\n",
      " #   Column   Non-Null Count   Dtype  \n",
      "---  ------   --------------   -----  \n",
      " 0   movieId  100819 non-null  int64  \n",
      " 1   title    100819 non-null  object \n",
      " 2   genres   100819 non-null  object \n",
      " 3   userId   100819 non-null  int64  \n",
      " 4   rating   100819 non-null  float64\n",
      " 5   year     100819 non-null  object \n",
      "dtypes: float64(1), int64(2), object(3)\n",
      "memory usage: 5.4+ MB\n"
     ]
    }
   ],
   "source": [
    "# checking summary of the dataset to confirm there are no null records\n",
    "merged_df.info()"
   ]
  },
  {
   "cell_type": "code",
   "execution_count": 22,
   "metadata": {},
   "outputs": [
    {
     "data": {
      "text/plain": [
       "0"
      ]
     },
     "execution_count": 22,
     "metadata": {},
     "output_type": "execute_result"
    }
   ],
   "source": [
    "# checking for duplicates\n",
    "merged_df.duplicated().sum()"
   ]
  },
  {
   "cell_type": "markdown",
   "metadata": {},
   "source": [
    "- There are no duplicates"
   ]
  },
  {
   "cell_type": "code",
   "execution_count": 23,
   "metadata": {
    "id": "zP5f1Dad7yZW"
   },
   "outputs": [],
   "source": [
    "# exporting the clean merged dataframe to a csv file\n",
    "merged_df.to_csv('merged_df.csv',index=False)"
   ]
  },
  {
   "cell_type": "code",
   "execution_count": 29,
   "metadata": {
    "colab": {
     "base_uri": "https://localhost:8080/",
     "height": 452
    },
    "id": "jHjr1EO1z1Bp",
    "outputId": "e93e517a-47a4-42ce-b88a-bb2c5dbf1455"
   },
   "outputs": [
    {
     "data": {
      "image/png": "[encoded data removed]",
      "text/plain": [
       "<Figure size 1440x504 with 1 Axes>"
      ]
     },
     "metadata": {},
     "output_type": "display_data"
    }
   ],
   "source": [
    "# grouping the rating based on user\n",
    "\n",
    "ratings_by_users = merged_df.groupby('userId').agg({'rating': [np.size, np.mean]})\n",
    "ratings_by_users['rating']['size'].sort_values(ascending = False).head(20).plot(kind = 'bar', figsize = (20,7));\n",
    "plt.savefig(\"./images/ratedmost.png\", dpi=300)"
   ]
  },
  {
   "cell_type": "markdown",
   "metadata": {},
   "source": [
    "- The above graph displays users who rated mostly with user 414 rating most"
   ]
  },
  {
   "cell_type": "code",
   "execution_count": 30,
   "metadata": {
    "colab": {
     "base_uri": "https://localhost:8080/",
     "height": 206
    },
    "id": "OXxP9LgU0qNc",
    "outputId": "8c4e53b9-be32-46a6-834b-6e1d46cb7862"
   },
   "outputs": [
    {
     "data": {
      "text/html": [
       "<div>\n",
       "<style scoped>\n",
       "    .dataframe tbody tr th:only-of-type {\n",
       "        vertical-align: middle;\n",
       "    }\n",
       "\n",
       "    .dataframe tbody tr th {\n",
       "        vertical-align: top;\n",
       "    }\n",
       "\n",
       "    .dataframe thead th {\n",
       "        text-align: right;\n",
       "    }\n",
       "</style>\n",
       "<table border=\"1\" class=\"dataframe\">\n",
       "  <thead>\n",
       "    <tr style=\"text-align: right;\">\n",
       "      <th></th>\n",
       "      <th>movieId</th>\n",
       "      <th>title</th>\n",
       "      <th>genres</th>\n",
       "      <th>userId</th>\n",
       "      <th>rating</th>\n",
       "      <th>year</th>\n",
       "    </tr>\n",
       "  </thead>\n",
       "  <tbody>\n",
       "    <tr>\n",
       "      <th>146</th>\n",
       "      <td>1</td>\n",
       "      <td>Toy Story (1995)</td>\n",
       "      <td>Adventure|Animation|Children|Comedy|Fantasy</td>\n",
       "      <td>414</td>\n",
       "      <td>4.0</td>\n",
       "      <td>1995</td>\n",
       "    </tr>\n",
       "    <tr>\n",
       "      <th>281</th>\n",
       "      <td>2</td>\n",
       "      <td>Jumanji (1995)</td>\n",
       "      <td>Adventure|Children|Fantasy</td>\n",
       "      <td>414</td>\n",
       "      <td>3.0</td>\n",
       "      <td>1995</td>\n",
       "    </tr>\n",
       "    <tr>\n",
       "      <th>361</th>\n",
       "      <td>3</td>\n",
       "      <td>Grumpier Old Men (1995)</td>\n",
       "      <td>Comedy|Romance</td>\n",
       "      <td>414</td>\n",
       "      <td>4.0</td>\n",
       "      <td>1995</td>\n",
       "    </tr>\n",
       "    <tr>\n",
       "      <th>414</th>\n",
       "      <td>5</td>\n",
       "      <td>Father of the Bride Part II (1995)</td>\n",
       "      <td>Comedy</td>\n",
       "      <td>414</td>\n",
       "      <td>2.0</td>\n",
       "      <td>1995</td>\n",
       "    </tr>\n",
       "    <tr>\n",
       "      <th>502</th>\n",
       "      <td>6</td>\n",
       "      <td>Heat (1995)</td>\n",
       "      <td>Action|Crime|Thriller</td>\n",
       "      <td>414</td>\n",
       "      <td>3.0</td>\n",
       "      <td>1995</td>\n",
       "    </tr>\n",
       "    <tr>\n",
       "      <th>...</th>\n",
       "      <td>...</td>\n",
       "      <td>...</td>\n",
       "      <td>...</td>\n",
       "      <td>...</td>\n",
       "      <td>...</td>\n",
       "      <td>...</td>\n",
       "    </tr>\n",
       "    <tr>\n",
       "      <th>100691</th>\n",
       "      <td>180045</td>\n",
       "      <td>Molly's Game (2017)</td>\n",
       "      <td>Drama</td>\n",
       "      <td>414</td>\n",
       "      <td>4.0</td>\n",
       "      <td>2017</td>\n",
       "    </tr>\n",
       "    <tr>\n",
       "      <th>100701</th>\n",
       "      <td>180497</td>\n",
       "      <td>The Post (2017)</td>\n",
       "      <td>Drama|Thriller</td>\n",
       "      <td>414</td>\n",
       "      <td>4.0</td>\n",
       "      <td>2017</td>\n",
       "    </tr>\n",
       "    <tr>\n",
       "      <th>100705</th>\n",
       "      <td>180985</td>\n",
       "      <td>The Greatest Showman (2017)</td>\n",
       "      <td>Drama</td>\n",
       "      <td>414</td>\n",
       "      <td>3.5</td>\n",
       "      <td>2017</td>\n",
       "    </tr>\n",
       "    <tr>\n",
       "      <th>100762</th>\n",
       "      <td>184791</td>\n",
       "      <td>Fred Armisen: Standup for Drummers (2018)</td>\n",
       "      <td>Comedy</td>\n",
       "      <td>414</td>\n",
       "      <td>2.5</td>\n",
       "      <td>2018</td>\n",
       "    </tr>\n",
       "    <tr>\n",
       "      <th>100799</th>\n",
       "      <td>187595</td>\n",
       "      <td>Solo: A Star Wars Story (2018)</td>\n",
       "      <td>Action|Adventure|Children|Sci-Fi</td>\n",
       "      <td>414</td>\n",
       "      <td>3.5</td>\n",
       "      <td>2018</td>\n",
       "    </tr>\n",
       "  </tbody>\n",
       "</table>\n",
       "<p>2697 rows × 6 columns</p>\n",
       "</div>"
      ],
      "text/plain": [
       "        movieId                                      title  \\\n",
       "146           1                           Toy Story (1995)   \n",
       "281           2                             Jumanji (1995)   \n",
       "361           3                    Grumpier Old Men (1995)   \n",
       "414           5         Father of the Bride Part II (1995)   \n",
       "502           6                                Heat (1995)   \n",
       "...         ...                                        ...   \n",
       "100691   180045                        Molly's Game (2017)   \n",
       "100701   180497                            The Post (2017)   \n",
       "100705   180985                The Greatest Showman (2017)   \n",
       "100762   184791  Fred Armisen: Standup for Drummers (2018)   \n",
       "100799   187595             Solo: A Star Wars Story (2018)   \n",
       "\n",
       "                                             genres  userId  rating  year  \n",
       "146     Adventure|Animation|Children|Comedy|Fantasy     414     4.0  1995  \n",
       "281                      Adventure|Children|Fantasy     414     3.0  1995  \n",
       "361                                  Comedy|Romance     414     4.0  1995  \n",
       "414                                          Comedy     414     2.0  1995  \n",
       "502                           Action|Crime|Thriller     414     3.0  1995  \n",
       "...                                             ...     ...     ...   ...  \n",
       "100691                                        Drama     414     4.0  2017  \n",
       "100701                               Drama|Thriller     414     4.0  2017  \n",
       "100705                                        Drama     414     3.5  2017  \n",
       "100762                                       Comedy     414     2.5  2018  \n",
       "100799             Action|Adventure|Children|Sci-Fi     414     3.5  2018  \n",
       "\n",
       "[2697 rows x 6 columns]"
      ]
     },
     "execution_count": 30,
     "metadata": {},
     "output_type": "execute_result"
    }
   ],
   "source": [
    "# checking the details of the most rating user\n",
    "user_414 = merged_df[merged_df['userId'] == 414]\n",
    "user_414"
   ]
  },
  {
   "cell_type": "markdown",
   "metadata": {},
   "source": [
    "- From the top 5 and last 5 last records of user_414, it is clear that averagely the ratings were bewteen 2-4"
   ]
  },
  {
   "cell_type": "code",
   "execution_count": 31,
   "metadata": {
    "colab": {
     "base_uri": "https://localhost:8080/",
     "height": 486
    },
    "id": "MtJYUjtmz1FY",
    "outputId": "0297c6f1-bb40-4843-d2a3-6c7ebd03c9a8"
   },
   "outputs": [
    {
     "data": {
      "text/html": [
       "<div>\n",
       "<style scoped>\n",
       "    .dataframe tbody tr th:only-of-type {\n",
       "        vertical-align: middle;\n",
       "    }\n",
       "\n",
       "    .dataframe tbody tr th {\n",
       "        vertical-align: top;\n",
       "    }\n",
       "\n",
       "    .dataframe thead tr th {\n",
       "        text-align: left;\n",
       "    }\n",
       "\n",
       "    .dataframe thead tr:last-of-type th {\n",
       "        text-align: right;\n",
       "    }\n",
       "</style>\n",
       "<table border=\"1\" class=\"dataframe\">\n",
       "  <thead>\n",
       "    <tr>\n",
       "      <th></th>\n",
       "      <th colspan=\"2\" halign=\"left\">rating</th>\n",
       "    </tr>\n",
       "    <tr>\n",
       "      <th></th>\n",
       "      <th>size</th>\n",
       "      <th>mean</th>\n",
       "    </tr>\n",
       "    <tr>\n",
       "      <th>title</th>\n",
       "      <th></th>\n",
       "      <th></th>\n",
       "    </tr>\n",
       "  </thead>\n",
       "  <tbody>\n",
       "    <tr>\n",
       "      <th>'71 (2014)</th>\n",
       "      <td>1.0</td>\n",
       "      <td>4.000000</td>\n",
       "    </tr>\n",
       "    <tr>\n",
       "      <th>'Hellboy': The Seeds of Creation (2004)</th>\n",
       "      <td>1.0</td>\n",
       "      <td>4.000000</td>\n",
       "    </tr>\n",
       "    <tr>\n",
       "      <th>'Round Midnight (1986)</th>\n",
       "      <td>2.0</td>\n",
       "      <td>3.500000</td>\n",
       "    </tr>\n",
       "    <tr>\n",
       "      <th>'Salem's Lot (2004)</th>\n",
       "      <td>1.0</td>\n",
       "      <td>5.000000</td>\n",
       "    </tr>\n",
       "    <tr>\n",
       "      <th>'Til There Was You (1997)</th>\n",
       "      <td>2.0</td>\n",
       "      <td>4.000000</td>\n",
       "    </tr>\n",
       "    <tr>\n",
       "      <th>...</th>\n",
       "      <td>...</td>\n",
       "      <td>...</td>\n",
       "    </tr>\n",
       "    <tr>\n",
       "      <th>eXistenZ (1999)</th>\n",
       "      <td>22.0</td>\n",
       "      <td>3.863636</td>\n",
       "    </tr>\n",
       "    <tr>\n",
       "      <th>xXx (2002)</th>\n",
       "      <td>24.0</td>\n",
       "      <td>2.770833</td>\n",
       "    </tr>\n",
       "    <tr>\n",
       "      <th>xXx: State of the Union (2005)</th>\n",
       "      <td>5.0</td>\n",
       "      <td>2.000000</td>\n",
       "    </tr>\n",
       "    <tr>\n",
       "      <th>¡Three Amigos! (1986)</th>\n",
       "      <td>26.0</td>\n",
       "      <td>3.134615</td>\n",
       "    </tr>\n",
       "    <tr>\n",
       "      <th>À nous la liberté (Freedom for Us) (1931)</th>\n",
       "      <td>1.0</td>\n",
       "      <td>1.000000</td>\n",
       "    </tr>\n",
       "  </tbody>\n",
       "</table>\n",
       "<p>9707 rows × 2 columns</p>\n",
       "</div>"
      ],
      "text/plain": [
       "                                          rating          \n",
       "                                            size      mean\n",
       "title                                                     \n",
       "'71 (2014)                                   1.0  4.000000\n",
       "'Hellboy': The Seeds of Creation (2004)      1.0  4.000000\n",
       "'Round Midnight (1986)                       2.0  3.500000\n",
       "'Salem's Lot (2004)                          1.0  5.000000\n",
       "'Til There Was You (1997)                    2.0  4.000000\n",
       "...                                          ...       ...\n",
       "eXistenZ (1999)                             22.0  3.863636\n",
       "xXx (2002)                                  24.0  2.770833\n",
       "xXx: State of the Union (2005)               5.0  2.000000\n",
       "¡Three Amigos! (1986)                       26.0  3.134615\n",
       "À nous la liberté (Freedom for Us) (1931)    1.0  1.000000\n",
       "\n",
       "[9707 rows x 2 columns]"
      ]
     },
     "execution_count": 31,
     "metadata": {},
     "output_type": "execute_result"
    }
   ],
   "source": [
    "# grouping the ratings based on movies\n",
    "ratings_by_movies = merged_df.groupby('title').agg({'rating': [np.size, np.mean]})\n",
    "ratings_by_movies"
   ]
  },
  {
   "cell_type": "code",
   "execution_count": 32,
   "metadata": {
    "colab": {
     "base_uri": "https://localhost:8080/",
     "height": 818
    },
    "id": "1dW9U5EpKCOm",
    "outputId": "99e2a73b-d2ed-4720-ae88-19fc5e53e5d0"
   },
   "outputs": [
    {
     "data": {
      "image/png": "[encoded data removed]",
      "text/plain": [
       "<Figure size 1440x504 with 1 Axes>"
      ]
     },
     "metadata": {},
     "output_type": "display_data"
    }
   ],
   "source": [
    "# most rated movies \n",
    "ratings_by_movies['rating']['size'].sort_values(ascending = False).head(20).plot(kind = 'bar', figsize = (20,7));\n",
    "plt.savefig(\"./images/movieratings.png\", dpi=300)"
   ]
  },
  {
   "cell_type": "markdown",
   "metadata": {
    "id": "RabfXYhIPf2_"
   },
   "source": [
    "- Movie ratings are unevenly distributed, with the film \"Forrest Gump\" being the most rated, receiving approximately 350 ratings."
   ]
  },
  {
   "cell_type": "code",
   "execution_count": 33,
   "metadata": {
    "colab": {
     "base_uri": "https://localhost:8080/"
    },
    "id": "1sAu602gfjTA",
    "outputId": "4537236e-36ff-4557-bc9e-7d4bb9b3105b"
   },
   "outputs": [
    {
     "data": {
      "text/plain": [
       "title\n",
       "Shawshank Redemption, The (1994)                         4.429022\n",
       "Fight Club (1999)                                        4.272936\n",
       "Usual Suspects, The (1995)                               4.237745\n",
       "Star Wars: Episode IV - A New Hope (1977)                4.231076\n",
       "Schindler's List (1993)                                  4.225000\n",
       "Star Wars: Episode V - The Empire Strikes Back (1980)    4.215640\n",
       "Pulp Fiction (1994)                                      4.197068\n",
       "Matrix, The (1999)                                       4.192446\n",
       "Forrest Gump (1994)                                      4.164134\n",
       "Silence of the Lambs, The (1991)                         4.161290\n",
       "Name: mean, dtype: float64"
      ]
     },
     "execution_count": 33,
     "metadata": {},
     "output_type": "execute_result"
    }
   ],
   "source": [
    "# check the most popular movies \n",
    "popular_ratings_by_movies = ratings_by_movies[ratings_by_movies['rating']['size']>200]\n",
    "popular_ratings_by_movies['rating']['mean'].sort_values( ascending=False).head(10)"
   ]
  },
  {
   "cell_type": "markdown",
   "metadata": {
    "id": "r4BvtdSlBKO7"
   },
   "source": [
    "- Utilizing the **ratings_by_users** and **ratings_by_movies** tables will provide insights into which movies are highly appreciated or well-reviewed in our database. This information will be employed in subsequent sections for further analysis."
   ]
  },
  {
   "cell_type": "code",
   "execution_count": 34,
   "metadata": {
    "colab": {
     "base_uri": "https://localhost:8080/",
     "height": 404
    },
    "id": "7S3JCST2z4vg",
    "outputId": "6df00aba-8713-407a-e746-036dd3dbfa21"
   },
   "outputs": [
    {
     "data": {
      "image/png": "[encoded data removed]",
      "text/plain": [
       "<Figure size 576x432 with 1 Axes>"
      ]
     },
     "metadata": {},
     "output_type": "display_data"
    }
   ],
   "source": [
    "# User rating of the movie “Forrest Gump”\n",
    "\n",
    "plt.figure(figsize=(8,6))\n",
    "movies_grouped = merged_df.groupby('title')\n",
    "Forrest_Gump = movies_grouped.get_group('Forrest Gump (1994)')\n",
    "Forrest_Gump['rating'].hist()\n",
    "plt.title('User rating of the movie “Forrest Gump”')\n",
    "plt.xlabel('Rating')\n",
    "plt.ylabel('Number of Users')\n",
    "\n",
    "plt.savefig(\"./images/forrestratings.png\", dpi=300)\n",
    "plt.show()\n"
   ]
  },
  {
   "cell_type": "markdown",
   "metadata": {
    "id": "o9vy4EcXbRDG"
   },
   "source": [
    "\n",
    "- Most of the '**Forrest Gump**' audience ratings are 4 and 5."
   ]
  },
  {
   "cell_type": "markdown",
   "metadata": {},
   "source": [
    "- The genres column contains multiple genres.As a result, we need to separate them to conduct a meaningful analysis."
   ]
  },
  {
   "cell_type": "code",
   "execution_count": 35,
   "metadata": {
    "colab": {
     "base_uri": "https://localhost:8080/"
    },
    "id": "FW3diIXhb1DF",
    "outputId": "b0136684-ea47-4713-c30c-f74ec8389a39"
   },
   "outputs": [
    {
     "data": {
      "text/plain": [
       "Drama        4361\n",
       "Comedy       3756\n",
       "Thriller     1894\n",
       "Action       1828\n",
       "Romance      1596\n",
       "Adventure    1263\n",
       "Crime        1199\n",
       "Sci-Fi        980\n",
       "Horror        978\n",
       "Fantasy       779\n",
       "Name: genres, dtype: int64"
      ]
     },
     "execution_count": 35,
     "metadata": {},
     "output_type": "execute_result"
    }
   ],
   "source": [
    "# split and check the value count for each genre\n",
    "genre_popularity = (movies_df.genres.str.split('|')\n",
    "                      .explode()\n",
    "                      .value_counts()\n",
    "                      .sort_values(ascending=False))\n",
    "genre_popularity.head(10)"
   ]
  },
  {
   "cell_type": "code",
   "execution_count": 36,
   "metadata": {
    "colab": {
     "base_uri": "https://localhost:8080/",
     "height": 444
    },
    "id": "A0F53eAWFd8p",
    "outputId": "6df97c2e-1db1-4832-9ad1-a5011461d920"
   },
   "outputs": [
    {
     "data": {
      "image/png": "[encoded data removed]",
      "text/plain": [
       "<Figure size 1440x504 with 1 Axes>"
      ]
     },
     "metadata": {},
     "output_type": "display_data"
    }
   ],
   "source": [
    "# distribution of genres\n",
    "\n",
    "plt.figure(figsize=(20, 7))\n",
    "\n",
    "# Split genres and count occurrences\n",
    "genres = merged_df['genres'].apply(lambda genres_movie: str(genres_movie).split(\"|\"))\n",
    "genres_count = {}\n",
    "for genres_movie in genres:\n",
    "    for genre in genres_movie:\n",
    "        if genres_count.get(genre, False):\n",
    "            genres_count[genre] = genres_count[genre] + 1\n",
    "        else:\n",
    "            genres_count[genre] = 1\n",
    "\n",
    "# Sort genres based on counts in descending order\n",
    "sorted_genres = sorted(genres_count.items(), key=lambda x: x[1], reverse=True)\n",
    "sorted_genres_labels, sorted_genres_counts = zip(*sorted_genres)\n",
    "\n",
    "# Plot in descending order\n",
    "plt.bar(sorted_genres_labels, sorted_genres_counts)\n",
    "plt.title('Distribution of Genres')\n",
    "plt.xlabel('Genres')\n",
    "plt.ylabel('Number of Movies')\n",
    "plt.xticks(rotation=45, ha='right')  # Rotate x-axis labels for better visibility\n",
    "\n",
    "plt.savefig(\"./images/populargenres.png\", dpi=300)\n",
    "plt.show()"
   ]
  },
  {
   "cell_type": "markdown",
   "metadata": {
    "id": "JR5gfr8-o7-6"
   },
   "source": [
    "The predominant genre among movies is Drama, followed closely by Comedy. Subsequently, Action, Thriller, and Adventure genres also exhibit notable representation in the dataset."
   ]
  },
  {
   "cell_type": "code",
   "execution_count": 37,
   "metadata": {},
   "outputs": [
    {
     "data": {
      "text/plain": [
       "3.501547327388687"
      ]
     },
     "execution_count": 37,
     "metadata": {},
     "output_type": "execute_result"
    }
   ],
   "source": [
    "# the average rating for the entire dataset\n",
    "mean_rating = merged_df.rating.mean()\n",
    "mean_rating"
   ]
  },
  {
   "cell_type": "code",
   "execution_count": 38,
   "metadata": {
    "colab": {
     "base_uri": "https://localhost:8080/",
     "height": 458
    },
    "id": "QeTOD3cfFd_-",
    "outputId": "e6c77322-3db2-4d9f-8878-1f42e66b3d2c"
   },
   "outputs": [
    {
     "data": {
      "image/png": "[encoded data removed]",
      "text/plain": [
       "<Figure size 1152x432 with 1 Axes>"
      ]
     },
     "metadata": {},
     "output_type": "display_data"
    }
   ],
   "source": [
    "# distribution of ratings\n",
    "plt.figure(figsize=(16,6))\n",
    "sns.countplot(merged_df['rating'])\n",
    "plt.title('Distribution of Ratings');"
   ]
  },
  {
   "cell_type": "markdown",
   "metadata": {
    "id": "7SBDgW2-Q3o_"
   },
   "source": [
    "- The mean rating is 3.50 on a scale of 5.\n",
    "- It seems that ratings are not normally distibuted.\n",
    "- Nearly half the movies have a rating between 4 and 5."
   ]
  },
  {
   "cell_type": "code",
   "execution_count": 40,
   "metadata": {
    "colab": {
     "base_uri": "https://localhost:8080/",
     "height": 474
    },
    "id": "GtkAc1HLFeLh",
    "outputId": "1580e02b-9123-448c-f09a-eee9f8f76448"
   },
   "outputs": [
    {
     "data": {
      "image/png": "[encoded data removed]",
      "text/plain": [
       "<Figure size 1440x504 with 1 Axes>"
      ]
     },
     "metadata": {},
     "output_type": "display_data"
    }
   ],
   "source": [
    "# distribution of year\n",
    "df_year_asc = merged_df.sort_values('year' , ascending = True)\n",
    "plt.figure(figsize=(20,7))\n",
    "sns.countplot(df_year_asc['year'])\n",
    "plt.xticks(rotation=90)\n",
    "plt.title('Distribution of Years');\n",
    "plt.savefig(\"./images/year.png\", dpi=300)"
   ]
  },
  {
   "cell_type": "markdown",
   "metadata": {
    "id": "EmyypXy0YsbZ"
   },
   "source": [
    "- The dataset encompasses movies dating back to 1902, with the most recent film recorded in 2018. The years with high number of rated movies in this dataset is notably between 1993 and 2004, with 1995 being the highest."
   ]
  },
  {
   "cell_type": "markdown",
   "metadata": {},
   "source": [
    "# **Making Recommendation Systems**\n",
    " Now that we have had a good feel of our data, we can go ahead and build our recommendation systems. We will start with the simplest of the techniques which is the popularity-based recommendation system"
   ]
  },
  {
   "cell_type": "markdown",
   "metadata": {},
   "source": [
    "### **Simple Recommendation System(Popularity-Based)**\n",
    "\n",
    "This method is a basic system that recommends the top items based on a certain metric or score. Simple recommenders offer generalized recommendations to every user, based on movie popularity and/or genre. The basic idea behind this system is that movies that are more popular and critically acclaimed will have a higher probability of being liked by the average audience. It's also worth noting that this technique can be quite handy with cold-start problems since previous user interactions is not necessary. \n",
    "\n",
    "That being said, we'll only be working with `movie.csv` and  `ratings.csv` for this section since our columns of interest are `title` and `ratings`. We'll start with merging the two dataframes using `movieId` so we can have them in one place before doing anything else."
   ]
  },
  {
   "cell_type": "code",
   "execution_count": 36,
   "metadata": {},
   "outputs": [
    {
     "data": {
      "text/html": [
       "<div>\n",
       "<style scoped>\n",
       "    .dataframe tbody tr th:only-of-type {\n",
       "        vertical-align: middle;\n",
       "    }\n",
       "\n",
       "    .dataframe tbody tr th {\n",
       "        vertical-align: top;\n",
       "    }\n",
       "\n",
       "    .dataframe thead th {\n",
       "        text-align: right;\n",
       "    }\n",
       "</style>\n",
       "<table border=\"1\" class=\"dataframe\">\n",
       "  <thead>\n",
       "    <tr style=\"text-align: right;\">\n",
       "      <th></th>\n",
       "      <th>userId</th>\n",
       "      <th>movieId</th>\n",
       "      <th>rating</th>\n",
       "      <th>timestamp</th>\n",
       "      <th>title</th>\n",
       "      <th>genres</th>\n",
       "    </tr>\n",
       "  </thead>\n",
       "  <tbody>\n",
       "    <tr>\n",
       "      <th>0</th>\n",
       "      <td>1</td>\n",
       "      <td>1</td>\n",
       "      <td>4.0</td>\n",
       "      <td>964982703</td>\n",
       "      <td>Toy Story (1995)</td>\n",
       "      <td>Adventure|Animation|Children|Comedy|Fantasy</td>\n",
       "    </tr>\n",
       "    <tr>\n",
       "      <th>1</th>\n",
       "      <td>5</td>\n",
       "      <td>1</td>\n",
       "      <td>4.0</td>\n",
       "      <td>847434962</td>\n",
       "      <td>Toy Story (1995)</td>\n",
       "      <td>Adventure|Animation|Children|Comedy|Fantasy</td>\n",
       "    </tr>\n",
       "    <tr>\n",
       "      <th>2</th>\n",
       "      <td>7</td>\n",
       "      <td>1</td>\n",
       "      <td>4.5</td>\n",
       "      <td>1106635946</td>\n",
       "      <td>Toy Story (1995)</td>\n",
       "      <td>Adventure|Animation|Children|Comedy|Fantasy</td>\n",
       "    </tr>\n",
       "    <tr>\n",
       "      <th>3</th>\n",
       "      <td>15</td>\n",
       "      <td>1</td>\n",
       "      <td>2.5</td>\n",
       "      <td>1510577970</td>\n",
       "      <td>Toy Story (1995)</td>\n",
       "      <td>Adventure|Animation|Children|Comedy|Fantasy</td>\n",
       "    </tr>\n",
       "    <tr>\n",
       "      <th>4</th>\n",
       "      <td>17</td>\n",
       "      <td>1</td>\n",
       "      <td>4.5</td>\n",
       "      <td>1305696483</td>\n",
       "      <td>Toy Story (1995)</td>\n",
       "      <td>Adventure|Animation|Children|Comedy|Fantasy</td>\n",
       "    </tr>\n",
       "  </tbody>\n",
       "</table>\n",
       "</div>"
      ],
      "text/plain": [
       "   userId  movieId  rating   timestamp             title  \\\n",
       "0       1        1     4.0   964982703  Toy Story (1995)   \n",
       "1       5        1     4.0   847434962  Toy Story (1995)   \n",
       "2       7        1     4.5  1106635946  Toy Story (1995)   \n",
       "3      15        1     2.5  1510577970  Toy Story (1995)   \n",
       "4      17        1     4.5  1305696483  Toy Story (1995)   \n",
       "\n",
       "                                        genres  \n",
       "0  Adventure|Animation|Children|Comedy|Fantasy  \n",
       "1  Adventure|Animation|Children|Comedy|Fantasy  \n",
       "2  Adventure|Animation|Children|Comedy|Fantasy  \n",
       "3  Adventure|Animation|Children|Comedy|Fantasy  \n",
       "4  Adventure|Animation|Children|Comedy|Fantasy  "
      ]
     },
     "execution_count": 36,
     "metadata": {},
     "output_type": "execute_result"
    }
   ],
   "source": [
    "# Step 1. Merge movies.csv and ratings.csv into movie_data\n",
    "movie_data = pd.merge(ratings_df, movies_df, on='movieId')\n",
    "# Preview merged df\n",
    "movie_data.head()"
   ]
  },
  {
   "cell_type": "markdown",
   "metadata": {},
   "source": [
    "Our movie_data dataframe is perfectly merged. In the next steps, we will try to create our Simple Recommender System from scratch following a criteria that will be based on:\n",
    "* Movies with the highest ratings (Metric we'll use determine popularity)\n",
    "* Ratings count\n",
    "\n",
    "In the cells that follow for this section, we will be:\n",
    "* Grouping our movies_data by movie titles and getting means(since different users gave the same movie different ratings)\n",
    "* Sorting the table in ascending order using ratings column\n",
    "* Getting ratings count using `.count()` and adding `average_ratings_count` column to our table\n",
    "* Implementing a criteria that only takes movies with 3.5 star ratings and above and have at least a rating count of 50 \n",
    "\n",
    "Using the above criteria, we'll set a threshold that will determine if a movie is popular and therefore gets to be recommended to users.\n"
   ]
  },
  {
   "cell_type": "code",
   "execution_count": 37,
   "metadata": {},
   "outputs": [
    {
     "data": {
      "text/plain": [
       "title\n",
       "Karlson Returns (1970)                           5.0\n",
       "Winter in Prostokvashino (1984)                  5.0\n",
       "My Love (2006)                                   5.0\n",
       "Sorority House Massacre II (1990)                5.0\n",
       "Winnie the Pooh and the Day of Concern (1972)    5.0\n",
       "Name: rating, dtype: float64"
      ]
     },
     "execution_count": 37,
     "metadata": {},
     "output_type": "execute_result"
    }
   ],
   "source": [
    "# Get average ratings\n",
    "movie_data.groupby('title')['rating'].mean().sort_values(ascending=False).head()"
   ]
  },
  {
   "cell_type": "markdown",
   "metadata": {},
   "source": [
    "We have been able to get our popular movies sorted from highest rating to lowest. However, this alone does not answer the question of popular movies since some of the high ratings might be means from a handful of users or even a single user and therefore doesn't truly reflect the true picture of populality which is what we are interested in. \n",
    "\n",
    "To handle this issue, we will be getting the ratings count using `.count()` so as to get the number of users which we'll later on use in our threshold to get what is popular based on numbers.(We're assumming movies with relatively higher rating counts and high ratings are popular)."
   ]
  },
  {
   "cell_type": "code",
   "execution_count": 38,
   "metadata": {},
   "outputs": [
    {
     "data": {
      "text/plain": [
       "title\n",
       "Forrest Gump (1994)                 329\n",
       "Shawshank Redemption, The (1994)    317\n",
       "Pulp Fiction (1994)                 307\n",
       "Silence of the Lambs, The (1991)    279\n",
       "Matrix, The (1999)                  278\n",
       "Name: rating, dtype: int64"
      ]
     },
     "execution_count": 38,
     "metadata": {},
     "output_type": "execute_result"
    }
   ],
   "source": [
    "# Get ratings count\n",
    "movie_data.groupby('title')['rating'].count().sort_values(ascending=False).head()"
   ]
  },
  {
   "cell_type": "markdown",
   "metadata": {},
   "source": [
    "With ratings count, we can already see the movies that had the highest ratings didn't particularly have high ratings count. It is however, possible that users that watched the movies that had a 5 star rating might've been reluctant to provide movie ratings for some reason hence the lower ratings count, but judging from what we had the EDA(Exploratory Data Analysis) section, the movies that had many users rating them appeared to perform fairly well so our assumption on popularity might be largely correct. Besides, this assumption does a fairly good job of handling the bias problem of considering high ratings with  by significantly few users as popular since we are more focused on the what the majority of users made of the movies."
   ]
  },
  {
   "cell_type": "code",
   "execution_count": 39,
   "metadata": {},
   "outputs": [
    {
     "data": {
      "text/html": [
       "<div>\n",
       "<style scoped>\n",
       "    .dataframe tbody tr th:only-of-type {\n",
       "        vertical-align: middle;\n",
       "    }\n",
       "\n",
       "    .dataframe tbody tr th {\n",
       "        vertical-align: top;\n",
       "    }\n",
       "\n",
       "    .dataframe thead th {\n",
       "        text-align: right;\n",
       "    }\n",
       "</style>\n",
       "<table border=\"1\" class=\"dataframe\">\n",
       "  <thead>\n",
       "    <tr style=\"text-align: right;\">\n",
       "      <th></th>\n",
       "      <th>rating</th>\n",
       "    </tr>\n",
       "    <tr>\n",
       "      <th>title</th>\n",
       "      <th></th>\n",
       "    </tr>\n",
       "  </thead>\n",
       "  <tbody>\n",
       "    <tr>\n",
       "      <th>'71 (2014)</th>\n",
       "      <td>4.000000</td>\n",
       "    </tr>\n",
       "    <tr>\n",
       "      <th>'Hellboy': The Seeds of Creation (2004)</th>\n",
       "      <td>4.000000</td>\n",
       "    </tr>\n",
       "    <tr>\n",
       "      <th>'Round Midnight (1986)</th>\n",
       "      <td>3.500000</td>\n",
       "    </tr>\n",
       "    <tr>\n",
       "      <th>'Salem's Lot (2004)</th>\n",
       "      <td>5.000000</td>\n",
       "    </tr>\n",
       "    <tr>\n",
       "      <th>'Til There Was You (1997)</th>\n",
       "      <td>4.000000</td>\n",
       "    </tr>\n",
       "    <tr>\n",
       "      <th>...</th>\n",
       "      <td>...</td>\n",
       "    </tr>\n",
       "    <tr>\n",
       "      <th>eXistenZ (1999)</th>\n",
       "      <td>3.863636</td>\n",
       "    </tr>\n",
       "    <tr>\n",
       "      <th>xXx (2002)</th>\n",
       "      <td>2.770833</td>\n",
       "    </tr>\n",
       "    <tr>\n",
       "      <th>xXx: State of the Union (2005)</th>\n",
       "      <td>2.000000</td>\n",
       "    </tr>\n",
       "    <tr>\n",
       "      <th>¡Three Amigos! (1986)</th>\n",
       "      <td>3.134615</td>\n",
       "    </tr>\n",
       "    <tr>\n",
       "      <th>À nous la liberté (Freedom for Us) (1931)</th>\n",
       "      <td>1.000000</td>\n",
       "    </tr>\n",
       "  </tbody>\n",
       "</table>\n",
       "<p>9719 rows × 1 columns</p>\n",
       "</div>"
      ],
      "text/plain": [
       "                                             rating\n",
       "title                                              \n",
       "'71 (2014)                                 4.000000\n",
       "'Hellboy': The Seeds of Creation (2004)    4.000000\n",
       "'Round Midnight (1986)                     3.500000\n",
       "'Salem's Lot (2004)                        5.000000\n",
       "'Til There Was You (1997)                  4.000000\n",
       "...                                             ...\n",
       "eXistenZ (1999)                            3.863636\n",
       "xXx (2002)                                 2.770833\n",
       "xXx: State of the Union (2005)             2.000000\n",
       "¡Three Amigos! (1986)                      3.134615\n",
       "À nous la liberté (Freedom for Us) (1931)  1.000000\n",
       "\n",
       "[9719 rows x 1 columns]"
      ]
     },
     "execution_count": 39,
     "metadata": {},
     "output_type": "execute_result"
    }
   ],
   "source": [
    "# Calculate ratings mean\n",
    "ratings_mean_count = pd.DataFrame(movie_data.groupby('title')['rating'].mean())\n",
    "# Preview\n",
    "ratings_mean_count"
   ]
  },
  {
   "cell_type": "code",
   "execution_count": 40,
   "metadata": {},
   "outputs": [
    {
     "data": {
      "text/html": [
       "<div>\n",
       "<style scoped>\n",
       "    .dataframe tbody tr th:only-of-type {\n",
       "        vertical-align: middle;\n",
       "    }\n",
       "\n",
       "    .dataframe tbody tr th {\n",
       "        vertical-align: top;\n",
       "    }\n",
       "\n",
       "    .dataframe thead th {\n",
       "        text-align: right;\n",
       "    }\n",
       "</style>\n",
       "<table border=\"1\" class=\"dataframe\">\n",
       "  <thead>\n",
       "    <tr style=\"text-align: right;\">\n",
       "      <th></th>\n",
       "      <th>rating</th>\n",
       "    </tr>\n",
       "    <tr>\n",
       "      <th>title</th>\n",
       "      <th></th>\n",
       "    </tr>\n",
       "  </thead>\n",
       "  <tbody>\n",
       "    <tr>\n",
       "      <th>'71 (2014)</th>\n",
       "      <td>4.0</td>\n",
       "    </tr>\n",
       "    <tr>\n",
       "      <th>'Hellboy': The Seeds of Creation (2004)</th>\n",
       "      <td>4.0</td>\n",
       "    </tr>\n",
       "    <tr>\n",
       "      <th>'Round Midnight (1986)</th>\n",
       "      <td>3.5</td>\n",
       "    </tr>\n",
       "    <tr>\n",
       "      <th>'Salem's Lot (2004)</th>\n",
       "      <td>5.0</td>\n",
       "    </tr>\n",
       "    <tr>\n",
       "      <th>'Til There Was You (1997)</th>\n",
       "      <td>4.0</td>\n",
       "    </tr>\n",
       "  </tbody>\n",
       "</table>\n",
       "</div>"
      ],
      "text/plain": [
       "                                         rating\n",
       "title                                          \n",
       "'71 (2014)                                  4.0\n",
       "'Hellboy': The Seeds of Creation (2004)     4.0\n",
       "'Round Midnight (1986)                      3.5\n",
       "'Salem's Lot (2004)                         5.0\n",
       "'Til There Was You (1997)                   4.0"
      ]
     },
     "execution_count": 40,
     "metadata": {},
     "output_type": "execute_result"
    }
   ],
   "source": [
    "# Rounding ratings column to 1dp\n",
    "ratings_mean_count['rating'] = round(ratings_mean_count['rating'], 1)\n",
    "ratings_mean_count.head()"
   ]
  },
  {
   "cell_type": "code",
   "execution_count": 41,
   "metadata": {},
   "outputs": [
    {
     "data": {
      "text/html": [
       "<div>\n",
       "<style scoped>\n",
       "    .dataframe tbody tr th:only-of-type {\n",
       "        vertical-align: middle;\n",
       "    }\n",
       "\n",
       "    .dataframe tbody tr th {\n",
       "        vertical-align: top;\n",
       "    }\n",
       "\n",
       "    .dataframe thead th {\n",
       "        text-align: right;\n",
       "    }\n",
       "</style>\n",
       "<table border=\"1\" class=\"dataframe\">\n",
       "  <thead>\n",
       "    <tr style=\"text-align: right;\">\n",
       "      <th></th>\n",
       "      <th>rating</th>\n",
       "      <th>ratings_count</th>\n",
       "    </tr>\n",
       "    <tr>\n",
       "      <th>title</th>\n",
       "      <th></th>\n",
       "      <th></th>\n",
       "    </tr>\n",
       "  </thead>\n",
       "  <tbody>\n",
       "    <tr>\n",
       "      <th>'71 (2014)</th>\n",
       "      <td>4.0</td>\n",
       "      <td>1</td>\n",
       "    </tr>\n",
       "    <tr>\n",
       "      <th>'Hellboy': The Seeds of Creation (2004)</th>\n",
       "      <td>4.0</td>\n",
       "      <td>1</td>\n",
       "    </tr>\n",
       "    <tr>\n",
       "      <th>'Round Midnight (1986)</th>\n",
       "      <td>3.5</td>\n",
       "      <td>2</td>\n",
       "    </tr>\n",
       "    <tr>\n",
       "      <th>'Salem's Lot (2004)</th>\n",
       "      <td>5.0</td>\n",
       "      <td>1</td>\n",
       "    </tr>\n",
       "    <tr>\n",
       "      <th>'Til There Was You (1997)</th>\n",
       "      <td>4.0</td>\n",
       "      <td>2</td>\n",
       "    </tr>\n",
       "  </tbody>\n",
       "</table>\n",
       "</div>"
      ],
      "text/plain": [
       "                                         rating  ratings_count\n",
       "title                                                         \n",
       "'71 (2014)                                  4.0              1\n",
       "'Hellboy': The Seeds of Creation (2004)     4.0              1\n",
       "'Round Midnight (1986)                      3.5              2\n",
       "'Salem's Lot (2004)                         5.0              1\n",
       "'Til There Was You (1997)                   4.0              2"
      ]
     },
     "execution_count": 41,
     "metadata": {},
     "output_type": "execute_result"
    }
   ],
   "source": [
    "# Calculating count of the ratings and add the average ratings above\n",
    "ratings_mean_count['ratings_count'] = pd.DataFrame(movie_data.groupby('title')['rating'].count())\n",
    "ratings_mean_count.head()"
   ]
  },
  {
   "cell_type": "code",
   "execution_count": 42,
   "metadata": {},
   "outputs": [
    {
     "data": {
      "text/html": [
       "<div>\n",
       "<style scoped>\n",
       "    .dataframe tbody tr th:only-of-type {\n",
       "        vertical-align: middle;\n",
       "    }\n",
       "\n",
       "    .dataframe tbody tr th {\n",
       "        vertical-align: top;\n",
       "    }\n",
       "\n",
       "    .dataframe thead th {\n",
       "        text-align: right;\n",
       "    }\n",
       "</style>\n",
       "<table border=\"1\" class=\"dataframe\">\n",
       "  <thead>\n",
       "    <tr style=\"text-align: right;\">\n",
       "      <th></th>\n",
       "      <th>rating</th>\n",
       "      <th>ratings_count</th>\n",
       "    </tr>\n",
       "    <tr>\n",
       "      <th>title</th>\n",
       "      <th></th>\n",
       "      <th></th>\n",
       "    </tr>\n",
       "  </thead>\n",
       "  <tbody>\n",
       "    <tr>\n",
       "      <th>Aladdin (1992)</th>\n",
       "      <td>3.8</td>\n",
       "      <td>183</td>\n",
       "    </tr>\n",
       "    <tr>\n",
       "      <th>American Beauty (1999)</th>\n",
       "      <td>4.1</td>\n",
       "      <td>204</td>\n",
       "    </tr>\n",
       "    <tr>\n",
       "      <th>Apollo 13 (1995)</th>\n",
       "      <td>3.8</td>\n",
       "      <td>201</td>\n",
       "    </tr>\n",
       "    <tr>\n",
       "      <th>Back to the Future (1985)</th>\n",
       "      <td>4.0</td>\n",
       "      <td>171</td>\n",
       "    </tr>\n",
       "    <tr>\n",
       "      <th>Braveheart (1995)</th>\n",
       "      <td>4.0</td>\n",
       "      <td>237</td>\n",
       "    </tr>\n",
       "  </tbody>\n",
       "</table>\n",
       "</div>"
      ],
      "text/plain": [
       "                           rating  ratings_count\n",
       "title                                           \n",
       "Aladdin (1992)                3.8            183\n",
       "American Beauty (1999)        4.1            204\n",
       "Apollo 13 (1995)              3.8            201\n",
       "Back to the Future (1985)     4.0            171\n",
       "Braveheart (1995)             4.0            237"
      ]
     },
     "execution_count": 42,
     "metadata": {},
     "output_type": "execute_result"
    }
   ],
   "source": [
    "# Setting threshold for popular movies\n",
    "ratings_mean_count = ratings_mean_count[(ratings_mean_count['rating'] > mean_rating) & (ratings_mean_count['ratings_count'] > 150)]\n",
    "ratings_mean_count.head()"
   ]
  },
  {
   "cell_type": "code",
   "execution_count": 43,
   "metadata": {},
   "outputs": [
    {
     "data": {
      "text/html": [
       "<div>\n",
       "<style scoped>\n",
       "    .dataframe tbody tr th:only-of-type {\n",
       "        vertical-align: middle;\n",
       "    }\n",
       "\n",
       "    .dataframe tbody tr th {\n",
       "        vertical-align: top;\n",
       "    }\n",
       "\n",
       "    .dataframe thead th {\n",
       "        text-align: right;\n",
       "    }\n",
       "</style>\n",
       "<table border=\"1\" class=\"dataframe\">\n",
       "  <thead>\n",
       "    <tr style=\"text-align: right;\">\n",
       "      <th></th>\n",
       "      <th>rating</th>\n",
       "      <th>ratings_count</th>\n",
       "    </tr>\n",
       "    <tr>\n",
       "      <th>title</th>\n",
       "      <th></th>\n",
       "      <th></th>\n",
       "    </tr>\n",
       "  </thead>\n",
       "  <tbody>\n",
       "    <tr>\n",
       "      <th>Shawshank Redemption, The (1994)</th>\n",
       "      <td>4.4</td>\n",
       "      <td>317</td>\n",
       "    </tr>\n",
       "    <tr>\n",
       "      <th>Godfather, The (1972)</th>\n",
       "      <td>4.3</td>\n",
       "      <td>192</td>\n",
       "    </tr>\n",
       "    <tr>\n",
       "      <th>Fight Club (1999)</th>\n",
       "      <td>4.3</td>\n",
       "      <td>218</td>\n",
       "    </tr>\n",
       "    <tr>\n",
       "      <th>Matrix, The (1999)</th>\n",
       "      <td>4.2</td>\n",
       "      <td>278</td>\n",
       "    </tr>\n",
       "    <tr>\n",
       "      <th>Star Wars: Episode V - The Empire Strikes Back (1980)</th>\n",
       "      <td>4.2</td>\n",
       "      <td>211</td>\n",
       "    </tr>\n",
       "    <tr>\n",
       "      <th>Star Wars: Episode IV - A New Hope (1977)</th>\n",
       "      <td>4.2</td>\n",
       "      <td>251</td>\n",
       "    </tr>\n",
       "    <tr>\n",
       "      <th>Silence of the Lambs, The (1991)</th>\n",
       "      <td>4.2</td>\n",
       "      <td>279</td>\n",
       "    </tr>\n",
       "    <tr>\n",
       "      <th>Schindler's List (1993)</th>\n",
       "      <td>4.2</td>\n",
       "      <td>220</td>\n",
       "    </tr>\n",
       "    <tr>\n",
       "      <th>Raiders of the Lost Ark (Indiana Jones and the Raiders of the Lost Ark) (1981)</th>\n",
       "      <td>4.2</td>\n",
       "      <td>200</td>\n",
       "    </tr>\n",
       "    <tr>\n",
       "      <th>Pulp Fiction (1994)</th>\n",
       "      <td>4.2</td>\n",
       "      <td>307</td>\n",
       "    </tr>\n",
       "    <tr>\n",
       "      <th>Usual Suspects, The (1995)</th>\n",
       "      <td>4.2</td>\n",
       "      <td>204</td>\n",
       "    </tr>\n",
       "    <tr>\n",
       "      <th>Forrest Gump (1994)</th>\n",
       "      <td>4.2</td>\n",
       "      <td>329</td>\n",
       "    </tr>\n",
       "    <tr>\n",
       "      <th>Lord of the Rings: The Fellowship of the Ring, The (2001)</th>\n",
       "      <td>4.1</td>\n",
       "      <td>198</td>\n",
       "    </tr>\n",
       "    <tr>\n",
       "      <th>Lord of the Rings: The Return of the King, The (2003)</th>\n",
       "      <td>4.1</td>\n",
       "      <td>185</td>\n",
       "    </tr>\n",
       "    <tr>\n",
       "      <th>American Beauty (1999)</th>\n",
       "      <td>4.1</td>\n",
       "      <td>204</td>\n",
       "    </tr>\n",
       "    <tr>\n",
       "      <th>Memento (2000)</th>\n",
       "      <td>4.1</td>\n",
       "      <td>159</td>\n",
       "    </tr>\n",
       "    <tr>\n",
       "      <th>Saving Private Ryan (1998)</th>\n",
       "      <td>4.1</td>\n",
       "      <td>188</td>\n",
       "    </tr>\n",
       "    <tr>\n",
       "      <th>Fargo (1996)</th>\n",
       "      <td>4.1</td>\n",
       "      <td>181</td>\n",
       "    </tr>\n",
       "    <tr>\n",
       "      <th>Star Wars: Episode VI - Return of the Jedi (1983)</th>\n",
       "      <td>4.1</td>\n",
       "      <td>196</td>\n",
       "    </tr>\n",
       "    <tr>\n",
       "      <th>Seven (a.k.a. Se7en) (1995)</th>\n",
       "      <td>4.0</td>\n",
       "      <td>203</td>\n",
       "    </tr>\n",
       "    <tr>\n",
       "      <th>Back to the Future (1985)</th>\n",
       "      <td>4.0</td>\n",
       "      <td>171</td>\n",
       "    </tr>\n",
       "    <tr>\n",
       "      <th>Twelve Monkeys (a.k.a. 12 Monkeys) (1995)</th>\n",
       "      <td>4.0</td>\n",
       "      <td>177</td>\n",
       "    </tr>\n",
       "    <tr>\n",
       "      <th>Lord of the Rings: The Two Towers, The (2002)</th>\n",
       "      <td>4.0</td>\n",
       "      <td>188</td>\n",
       "    </tr>\n",
       "    <tr>\n",
       "      <th>Fugitive, The (1993)</th>\n",
       "      <td>4.0</td>\n",
       "      <td>190</td>\n",
       "    </tr>\n",
       "    <tr>\n",
       "      <th>Terminator 2: Judgment Day (1991)</th>\n",
       "      <td>4.0</td>\n",
       "      <td>224</td>\n",
       "    </tr>\n",
       "    <tr>\n",
       "      <th>Braveheart (1995)</th>\n",
       "      <td>4.0</td>\n",
       "      <td>237</td>\n",
       "    </tr>\n",
       "    <tr>\n",
       "      <th>Toy Story (1995)</th>\n",
       "      <td>3.9</td>\n",
       "      <td>215</td>\n",
       "    </tr>\n",
       "    <tr>\n",
       "      <th>Gladiator (2000)</th>\n",
       "      <td>3.9</td>\n",
       "      <td>170</td>\n",
       "    </tr>\n",
       "    <tr>\n",
       "      <th>Sixth Sense, The (1999)</th>\n",
       "      <td>3.9</td>\n",
       "      <td>179</td>\n",
       "    </tr>\n",
       "    <tr>\n",
       "      <th>Shrek (2001)</th>\n",
       "      <td>3.9</td>\n",
       "      <td>170</td>\n",
       "    </tr>\n",
       "    <tr>\n",
       "      <th>Lion King, The (1994)</th>\n",
       "      <td>3.9</td>\n",
       "      <td>172</td>\n",
       "    </tr>\n",
       "    <tr>\n",
       "      <th>Apollo 13 (1995)</th>\n",
       "      <td>3.8</td>\n",
       "      <td>201</td>\n",
       "    </tr>\n",
       "    <tr>\n",
       "      <th>Dances with Wolves (1990)</th>\n",
       "      <td>3.8</td>\n",
       "      <td>164</td>\n",
       "    </tr>\n",
       "    <tr>\n",
       "      <th>Jurassic Park (1993)</th>\n",
       "      <td>3.8</td>\n",
       "      <td>238</td>\n",
       "    </tr>\n",
       "    <tr>\n",
       "      <th>Aladdin (1992)</th>\n",
       "      <td>3.8</td>\n",
       "      <td>183</td>\n",
       "    </tr>\n",
       "  </tbody>\n",
       "</table>\n",
       "</div>"
      ],
      "text/plain": [
       "                                                    rating  ratings_count\n",
       "title                                                                    \n",
       "Shawshank Redemption, The (1994)                       4.4            317\n",
       "Godfather, The (1972)                                  4.3            192\n",
       "Fight Club (1999)                                      4.3            218\n",
       "Matrix, The (1999)                                     4.2            278\n",
       "Star Wars: Episode V - The Empire Strikes Back ...     4.2            211\n",
       "Star Wars: Episode IV - A New Hope (1977)              4.2            251\n",
       "Silence of the Lambs, The (1991)                       4.2            279\n",
       "Schindler's List (1993)                                4.2            220\n",
       "Raiders of the Lost Ark (Indiana Jones and the ...     4.2            200\n",
       "Pulp Fiction (1994)                                    4.2            307\n",
       "Usual Suspects, The (1995)                             4.2            204\n",
       "Forrest Gump (1994)                                    4.2            329\n",
       "Lord of the Rings: The Fellowship of the Ring, ...     4.1            198\n",
       "Lord of the Rings: The Return of the King, The ...     4.1            185\n",
       "American Beauty (1999)                                 4.1            204\n",
       "Memento (2000)                                         4.1            159\n",
       "Saving Private Ryan (1998)                             4.1            188\n",
       "Fargo (1996)                                           4.1            181\n",
       "Star Wars: Episode VI - Return of the Jedi (1983)      4.1            196\n",
       "Seven (a.k.a. Se7en) (1995)                            4.0            203\n",
       "Back to the Future (1985)                              4.0            171\n",
       "Twelve Monkeys (a.k.a. 12 Monkeys) (1995)              4.0            177\n",
       "Lord of the Rings: The Two Towers, The (2002)          4.0            188\n",
       "Fugitive, The (1993)                                   4.0            190\n",
       "Terminator 2: Judgment Day (1991)                      4.0            224\n",
       "Braveheart (1995)                                      4.0            237\n",
       "Toy Story (1995)                                       3.9            215\n",
       "Gladiator (2000)                                       3.9            170\n",
       "Sixth Sense, The (1999)                                3.9            179\n",
       "Shrek (2001)                                           3.9            170\n",
       "Lion King, The (1994)                                  3.9            172\n",
       "Apollo 13 (1995)                                       3.8            201\n",
       "Dances with Wolves (1990)                              3.8            164\n",
       "Jurassic Park (1993)                                   3.8            238\n",
       "Aladdin (1992)                                         3.8            183"
      ]
     },
     "execution_count": 43,
     "metadata": {},
     "output_type": "execute_result"
    }
   ],
   "source": [
    "# Sorting popular movies in ascending order by rating\n",
    "popular_movies = ratings_mean_count.sort_values(by='rating', ascending=False)\n",
    "# Preview\n",
    "popular_movies"
   ]
  },
  {
   "cell_type": "markdown",
   "metadata": {},
   "source": [
    "Finally we have our Simple recommendation model that recommends top movies. This model however has a major downside, it fails to provide personalized recommendations. All users get recommendations of what is popular and since tastes are subjective this approach fails to provide a solution to user engagement problem.\n",
    "\n",
    "In the next sections, we will be focusing on more personalized recommendations approaches."
   ]
  },
  {
   "attachments": {
    "image.png": {
     "image/png": "[encoded data removed]"
    }
   },
   "cell_type": "markdown",
   "metadata": {},
   "source": [
    "## **Collaborative Filtering**\n",
    "\n",
    "In collaborative filtering, the system analyzes information about preferences, behaviour, and activities of all users to predict what you might like. Simply put, the system recommends items that other users with similar tastes and behaviour liked. The main assumption of this method is that people who liked similar products in the past will also like similar products in the future.\n",
    "\n",
    "![image.png](attachment:image.png)\n",
    "\n",
    "Image source: https://www.miquido.com/wp-content/uploads/2023/06/image-1-700x681.png.webp\n",
    "\n",
    "This approach prides itself on its adaptive nature as the system captures changes in users' interests besides recommending products without any analysis of the product itself. This implies that the content of the product is not required to be in any way understood nor described by the the creator of the system noe the system itself.\n",
    "\n",
    "The information that will be of interest in this model with the `movies` list and `ratings` given by users.\n",
    "We will be transforming the dataset into something compatible with surprise. In order to do this we'll remove the 'timestamp' column that will not be needed in our recommender analysis, we will also need Reader and Dataset classes. There's a method in Dataset specifically for loading dataframes."
   ]
  },
  {
   "cell_type": "code",
   "execution_count": 44,
   "metadata": {},
   "outputs": [],
   "source": [
    "# Load data and drop 'timestamp column'\n",
    "ratings_df = pd.read_csv('Data/ratings.csv')\n",
    "\n",
    "# Drop unnecessary column\n",
    "ratings_df.drop(columns='timestamp', inplace=True)"
   ]
  },
  {
   "cell_type": "code",
   "execution_count": 45,
   "metadata": {},
   "outputs": [],
   "source": [
    "# Read in values as Surprise dataset\n",
    "reader = Reader()\n",
    "data = Dataset.load_from_df(ratings_df, reader)"
   ]
  },
  {
   "cell_type": "markdown",
   "metadata": {},
   "source": [
    "One of the first decisions is item-item similarity versus user-user similarity. We'll be checking the number of unique users and unique items in our dataset. If using neighborhood methods(Memory-Based methods), this helps us determine whether or not we should perform user-user or item-item similarity.\n",
    "That being said, for the sake of computation time, we'll be calculating the similarity between whichever number is fewer between users and items."
   ]
  },
  {
   "cell_type": "code",
   "execution_count": 46,
   "metadata": {},
   "outputs": [
    {
     "name": "stdout",
     "output_type": "stream",
     "text": [
      "Number of users:  610 \n",
      "\n",
      "Number of items:  9724\n"
     ]
    }
   ],
   "source": [
    "dataset = data.build_full_trainset()\n",
    "print('Number of users: ', dataset.n_users, '\\n')\n",
    "print('Number of items: ', dataset.n_items)"
   ]
  },
  {
   "cell_type": "markdown",
   "metadata": {},
   "source": [
    "There are clearly way more items than users. We will be taking this into account when inputting the specifications to our similarity metrics. Because we have fewer users than items, it will be more efficient to calculate user-user similarity rather than item-item similarity."
   ]
  },
  {
   "cell_type": "markdown",
   "metadata": {},
   "source": [
    "## **Determine the Best Model**\n",
    "\n",
    "Now that we have our dataset format already set for computation and checked the users and items, the next thing will be to use different models and see which one performs best, which will then be used later on to perform training. For the purposes of being consistent throughout this step, the metric we intend to use will be RMSE to evaluate our models to check how well the models perform. "
   ]
  },
  {
   "cell_type": "markdown",
   "metadata": {},
   "source": [
    "### ***Singular Value Decomposition (SVD)***"
   ]
  },
  {
   "cell_type": "code",
   "execution_count": 47,
   "metadata": {},
   "outputs": [],
   "source": [
    "# Perform a Gridsearch with SVD to find optimal parameters\n",
    "params = {'n_factors': [20, 50, 100], \n",
    "          'reg_all':[0.02, 0.05, 0.1]}\n",
    "gs_svd = GridSearchCV(SVD, param_grid=params, n_jobs=-1) #-1 ensures all CPU cores are used during computations, this option may take more time\n",
    "gs_svd.fit(data)"
   ]
  },
  {
   "cell_type": "code",
   "execution_count": 48,
   "metadata": {},
   "outputs": [
    {
     "name": "stdout",
     "output_type": "stream",
     "text": [
      "{'rmse': 0.8692326170346278, 'mae': 0.6682312728923407}\n",
      "{'rmse': {'n_factors': 50, 'reg_all': 0.05}, 'mae': {'n_factors': 100, 'reg_all': 0.05}}\n"
     ]
    }
   ],
   "source": [
    "# Print out optimal parameters\n",
    "print(gs_svd.best_score)\n",
    "print(gs_svd.best_params)"
   ]
  },
  {
   "cell_type": "code",
   "execution_count": 49,
   "metadata": {},
   "outputs": [
    {
     "name": "stdout",
     "output_type": "stream",
     "text": [
      "n_factors_rmse: 50\n",
      "reg_all_rmse: 0.05\n"
     ]
    }
   ],
   "source": [
    "# Storing the params in a variable\n",
    "best_params = gs_svd.best_params\n",
    "# Accessing values from the dictionary\n",
    "n_factors_rmse = best_params['rmse']['n_factors']\n",
    "reg_all_rmse = best_params['rmse']['reg_all']\n",
    "\n",
    "# Assigning values to variables\n",
    "n_factors_rmse_value = n_factors_rmse if 'n_factors' in best_params['rmse'] else None\n",
    "reg_all_rmse_value = reg_all_rmse if 'reg_all' in best_params['rmse'] else None\n",
    "\n",
    "# Printing values \n",
    "print(\"n_factors_rmse:\", n_factors_rmse_value)\n",
    "print(\"reg_all_rmse:\", reg_all_rmse_value)"
   ]
  },
  {
   "cell_type": "markdown",
   "metadata": {},
   "source": [
    "### ***KNNBasic***"
   ]
  },
  {
   "cell_type": "code",
   "execution_count": 50,
   "metadata": {},
   "outputs": [],
   "source": [
    "# Cross-validating with KNNBasic\n",
    "knn_basic = KNNBasic(sim_options={'name':'pearson', 'user_based':True})\n",
    "cv_knn_basic = cross_validate(knn_basic, data, n_jobs=-1)"
   ]
  },
  {
   "cell_type": "code",
   "execution_count": 51,
   "metadata": {},
   "outputs": [
    {
     "name": "stdout",
     "output_type": "stream",
     "text": [
      "('test_rmse', array([0.97205804, 0.98125226, 0.97085578, 0.96871397, 0.96665727]))\n",
      "('test_mae', array([0.75249138, 0.7569673 , 0.74983702, 0.74968014, 0.74731179]))\n",
      "('fit_time', (1.3274457454681396, 1.3813059329986572, 1.3773167133331299, 1.3334333896636963, 0.9025866985321045))\n",
      "('test_time', (2.840405225753784, 2.894261598587036, 2.8882784843444824, 2.9142086505889893, 1.4750738143920898))\n",
      "---------------------------------------\n",
      "Average RMSE:  0.9719074618707875\n"
     ]
    }
   ],
   "source": [
    "# Printing the average RMSE score for the test set\n",
    "for i in cv_knn_basic.items():\n",
    "    print(i)\n",
    "print('---------------------------------------')\n",
    "print(\"Average RMSE: \", np.mean(cv_knn_basic['test_rmse']))"
   ]
  },
  {
   "cell_type": "markdown",
   "metadata": {},
   "source": [
    "### ***KNNBaseline***"
   ]
  },
  {
   "cell_type": "code",
   "execution_count": 52,
   "metadata": {},
   "outputs": [
    {
     "name": "stdout",
     "output_type": "stream",
     "text": [
      "Estimating biases using als...\n",
      "Computing the pearson similarity matrix...\n",
      "Done computing similarity matrix.\n",
      "Estimating biases using als...\n",
      "Computing the pearson similarity matrix...\n",
      "Done computing similarity matrix.\n",
      "Estimating biases using als...\n",
      "Computing the pearson similarity matrix...\n",
      "Done computing similarity matrix.\n",
      "Estimating biases using als...\n",
      "Computing the pearson similarity matrix...\n",
      "Done computing similarity matrix.\n",
      "Estimating biases using als...\n",
      "Computing the pearson similarity matrix...\n",
      "Done computing similarity matrix.\n"
     ]
    }
   ],
   "source": [
    "# Cross-validating with KNNBaseline\n",
    "knn_baseline = KNNBaseline(sim_options={'name':'pearson', 'user_based':True})\n",
    "cv_knn_baseline = cross_validate(knn_baseline, data)"
   ]
  },
  {
   "cell_type": "code",
   "execution_count": 53,
   "metadata": {},
   "outputs": [
    {
     "name": "stdout",
     "output_type": "stream",
     "text": [
      "('test_rmse', array([0.87522832, 0.88696004, 0.87371232, 0.86657292, 0.87742844]))\n",
      "('test_mae', array([0.67032048, 0.67662973, 0.66846839, 0.66162016, 0.66918794]))\n",
      "('fit_time', (1.0675711631774902, 1.146113634109497, 1.0849833488464355, 1.0910232067108154, 1.101715087890625))\n",
      "('test_time', (2.3497722148895264, 2.1791739463806152, 2.2400095462799072, 2.2559638023376465, 2.133295774459839))\n",
      "-----------------------------------------\n",
      "Average RMSE score 0.8759804091058945\n"
     ]
    }
   ],
   "source": [
    "# Printing average RMSE score for the test set\n",
    "for i in cv_knn_baseline.items():\n",
    "    print(i)\n",
    "print('-----------------------------------------')\n",
    "print('Average RMSE score', np.mean(cv_knn_baseline['test_rmse']))"
   ]
  },
  {
   "cell_type": "markdown",
   "metadata": {},
   "source": [
    "Based off these outputs, it seems like the best performing model is the SVD model. We will be using this model to make our predictions using the best parameters stores in the variables `n_factors_rmse_value` and `reg_all_rmse_value`"
   ]
  },
  {
   "cell_type": "markdown",
   "metadata": {},
   "source": [
    "### **Making Simple Predictions**\n",
    "\n",
    "We can now go ahead and make simple predictions using our SVD model for an individual user and item going with the optimal parameters we found from before just to have a peek at how our model works."
   ]
  },
  {
   "cell_type": "code",
   "execution_count": 54,
   "metadata": {},
   "outputs": [
    {
     "data": {
      "text/plain": [
       "<surprise.prediction_algorithms.matrix_factorization.SVD at 0x1792164a940>"
      ]
     },
     "execution_count": 54,
     "metadata": {},
     "output_type": "execute_result"
    }
   ],
   "source": [
    "# Initialize SVD with optimal parameters\n",
    "svd = SVD(n_factors=n_factors_rmse_value, reg_all=reg_all_rmse_value)\n",
    "\n",
    "# Fit algorithm into dataset\n",
    "svd.fit(dataset)"
   ]
  },
  {
   "cell_type": "code",
   "execution_count": 55,
   "metadata": {},
   "outputs": [
    {
     "name": "stdout",
     "output_type": "stream",
     "text": [
      "Predicted rating:  2.2983527793329195\n"
     ]
    }
   ],
   "source": [
    "# Make predictions for userId 3 and itemId 3\n",
    "svd_pred = svd.predict(3, 3)\n",
    "\n",
    "# Predicted rating\n",
    "print('Predicted rating: ', svd_pred[3])"
   ]
  },
  {
   "cell_type": "markdown",
   "metadata": {},
   "source": [
    "Now that we have an idea of how our model makes simple predictions, we can proceed to making recommendations tailored to specific users. In this step, we will be creating a function `movie_rater()` that allows us to pick randomly selected movies. The function should present users with a movie and ask them to rate it. If they not seen the movie, they should be able to skip rating it. All this steps is to satisfy the collaborative filtering approach.\n",
    "\n",
    "The function `movie_rater()` should take the following as parameters:\n",
    "* `movies_df` : *DataFrame* - a dataframe containing the movie ids, name of movie and genres (Previewed in EDA section)\n",
    "* `num` : *int* - number of ratings\n",
    "* `genre` : *string* - specific genre from which to draw movies\n",
    "\n",
    "The function returns:\n",
    "* rating_list - a collection of dictionaries in the format of {'userId' : int, 'movieId' : int, 'rating' : float}\n"
   ]
  },
  {
   "cell_type": "code",
   "execution_count": 56,
   "metadata": {},
   "outputs": [],
   "source": [
    "# Initializing movie_rater() function\n",
    "def movie_rater(movie_df, num, genre=None):\n",
    "    userID = 1200\n",
    "    rating_list = []\n",
    "    while num > 0:\n",
    "        if genre:\n",
    "            movie = movie_df[movie_df['genres'].str.contains(genre)].sample(1) #1 samples 1 movie \n",
    "        else:\n",
    "            movie = movie_df.sample(1)\n",
    "        print(movie)\n",
    "        rating = input('How do you rate this movie on a scale of 1-5, press n if you have not watched :\\n')\n",
    "        if rating == 'n':\n",
    "            continue\n",
    "        else:\n",
    "            rating_one_movie = {'userId' : userID, 'movieId' : movie['movieId'].values[0], 'rating' : rating}\n",
    "            rating_list.append(rating_one_movie)\n",
    "            num -= 1\n",
    "    return rating_list"
   ]
  },
  {
   "cell_type": "code",
   "execution_count": 57,
   "metadata": {},
   "outputs": [
    {
     "name": "stdout",
     "output_type": "stream",
     "text": [
      "      movieId            title genres\n",
      "8466   112552  Whiplash (2014)  Drama\n",
      "How do you rate this movie on a scale of 1-5, press n if you have not watched :\n",
      "2\n",
      "      movieId                           title  \\\n",
      "4848     7247  Chitty Chitty Bang Bang (1968)   \n",
      "\n",
      "                                         genres  \n",
      "4848  Adventure|Children|Comedy|Fantasy|Musical  \n",
      "How do you rate this movie on a scale of 1-5, press n if you have not watched :\n",
      "4\n",
      "      movieId               title  genres\n",
      "1973     2618  Castle, The (1997)  Comedy\n",
      "How do you rate this movie on a scale of 1-5, press n if you have not watched :\n",
      "3\n",
      "      movieId                                              title  \\\n",
      "5918    33801  Godzilla: Final Wars (Gojira: Fainaru uôzu) (2...   \n",
      "\n",
      "                               genres  \n",
      "5918  Action|Adventure|Fantasy|Sci-Fi  \n",
      "How do you rate this movie on a scale of 1-5, press n if you have not watched :\n",
      "5\n",
      "      movieId                                   title       genres\n",
      "5835    32302  League of Ordinary Gentlemen, A (2004)  Documentary\n",
      "How do you rate this movie on a scale of 1-5, press n if you have not watched :\n",
      "1\n"
     ]
    }
   ],
   "source": [
    "# Trying the new function here\n",
    "user_rating = movie_rater(movies_df, 5)"
   ]
  },
  {
   "cell_type": "markdown",
   "metadata": {},
   "source": [
    "### **Making Predictions with the New Ratings**\n",
    "\n",
    "Now that we have new ratings, we can use them to make predictions for this new user. In this step we will be performing the following:\n",
    "\n",
    "* add the new ratings to the original ratings DataFrame, read into a `surprise` dataset\n",
    "* train a model using the new combined DataFrame\n",
    "* make predictions for the user\n",
    "* order the predictions from highest to lowest rated\n",
    "* return top n recommendations with the actual movie title (rather than index number for easy interpretability by user)"
   ]
  },
  {
   "cell_type": "code",
   "execution_count": 58,
   "metadata": {},
   "outputs": [],
   "source": [
    "# Adding new ratings to the original ratings DataFrame\n",
    "user_ratings = pd.DataFrame(user_rating)\n",
    "new_ratings_df = pd.concat([ratings_df, user_ratings], axis=0) #axis=0 to concat along index\n",
    "new_data = Dataset.load_from_df(new_ratings_df, reader)"
   ]
  },
  {
   "cell_type": "code",
   "execution_count": 59,
   "metadata": {},
   "outputs": [
    {
     "data": {
      "text/plain": [
       "<surprise.prediction_algorithms.matrix_factorization.SVD at 0x17921f57250>"
      ]
     },
     "execution_count": 59,
     "metadata": {},
     "output_type": "execute_result"
    }
   ],
   "source": [
    "# Train the model using the new DataFrame (we'll be using the best performing model we found along with our optimal parameters)\n",
    "# Using svd_ to differentiate from first svd model\n",
    "svd_ = SVD(n_factors=n_factors_rmse_value, reg_all=reg_all_rmse_value)\n",
    "svd_.fit(new_data.build_full_trainset())"
   ]
  },
  {
   "cell_type": "code",
   "execution_count": 60,
   "metadata": {},
   "outputs": [],
   "source": [
    "# make predictions for the user\n",
    "movies_list = []\n",
    "for m_id in ratings_df['movieId'].unique():\n",
    "    movies_list.append((m_id, svd_.predict(1200, m_id)[3]))"
   ]
  },
  {
   "cell_type": "code",
   "execution_count": 61,
   "metadata": {},
   "outputs": [],
   "source": [
    "# Order predictions from highest to lowest rated\n",
    "ranked_movies = sorted(movies_list, key=lambda X:X[1], reverse=True)"
   ]
  },
  {
   "cell_type": "markdown",
   "metadata": {},
   "source": [
    "For the last component of this step, a function could come in handy. We will be creating a function `recommended_movies()` that takes in the parameters:\n",
    "\n",
    "* `user_ratings` : list - list of tuples formulated as (user_id, movie_id) (should be in order of best to worst for this individual)\n",
    "* `movie_title_df` : DataFrame\n",
    "* `n` : int - number of recommended movies\n",
    "\n",
    "The function will use a for loop to print out each recommended n movies in order from best to worst"
   ]
  },
  {
   "cell_type": "code",
   "execution_count": 62,
   "metadata": {},
   "outputs": [
    {
     "name": "stdout",
     "output_type": "stream",
     "text": [
      "Recommendation #  1 694    Casablanca (1942)\n",
      "Name: title, dtype: object \n",
      "\n",
      "Recommendation #  2 277    Shawshank Redemption, The (1994)\n",
      "Name: title, dtype: object \n",
      "\n",
      "Recommendation #  3 841    Streetcar Named Desire, A (1951)\n",
      "Name: title, dtype: object \n",
      "\n",
      "Recommendation #  4 680    Philadelphia Story, The (1940)\n",
      "Name: title, dtype: object \n",
      "\n",
      "Recommendation #  5 863    Monty Python and the Holy Grail (1975)\n",
      "Name: title, dtype: object \n",
      "\n"
     ]
    }
   ],
   "source": [
    "# Top n recommendations using function\n",
    "def recommended_movies(user_ratings, movie_title_df, n):\n",
    "    for idx, rec in enumerate(user_ratings):\n",
    "        title = movie_title_df.loc[movie_title_df['movieId'] == int(rec[0])]['title']\n",
    "        print(\"Recommendation # \", idx+1, title, '\\n')\n",
    "        n -= 1\n",
    "        if n == 0:\n",
    "            break\n",
    "\n",
    "recommended_movies(ranked_movies, movies_df, 5)"
   ]
  },
  {
   "cell_type": "markdown",
   "metadata": {},
   "source": [
    "Now we have our top n movie recommendations from our recommender that uses collaborative technique personalized for a particular user. Nonetheless, given that the approach used is set to work only under the premise that there is some historical data of user ratings and there exists prior interaction by users, the recommender we just created suffers some severe drawbacks for this particular reason. \n",
    "\n",
    "Major drawbacks for this technique are:\n",
    "* **User cold-start problem** : The system cannot recommend products to new users who have not had any interaction yet\n",
    "* **Item cold-start problem** : The system cannot also recommend an item that users never selected before.\n",
    "\n",
    "In order to mitigate this problem, we'll be employing a third technique, content-based recommendation system that recommends movies to users based on movie features. i.e. metadata"
   ]
  },
  {
   "attachments": {
    "image.png": {
     "image/png": "[encoded data removed]"
    }
   },
   "cell_type": "markdown",
   "metadata": {},
   "source": [
    "### **Content-Based filtering Recommendation Systems**\n",
    "\n",
    "Content-based filtering methods are based on product descriptions and user preferences. This type of system recommends products similar to the products the user has liked in the past.\n",
    "\n",
    "![image.png](attachment:image.png)\n",
    "\n",
    "Image source: https://www.miquido.com/wp-content/uploads/2023/06/image-768x479.png.webp\n",
    "\n",
    "For this method, we intend to use `tags.csv` and `movies.csv` since the two datasets are the ones that contain movies metadata that we might find useful."
   ]
  },
  {
   "cell_type": "markdown",
   "metadata": {},
   "source": [
    "**Data Postprocessing**"
   ]
  },
  {
   "cell_type": "code",
   "execution_count": 2,
   "metadata": {},
   "outputs": [
    {
     "data": {
      "text/plain": [
       "tag              \n",
       "In Netflix queue     131\n",
       "atmospheric           36\n",
       "thought-provoking     24\n",
       "superhero             24\n",
       "surreal               23\n",
       "                    ... \n",
       "exciting               1\n",
       "faerie tale            1\n",
       "fairy tale             1\n",
       "falling                1\n",
       "\"artsy\"                1\n",
       "Length: 1589, dtype: int64"
      ]
     },
     "execution_count": 2,
     "metadata": {},
     "output_type": "execute_result"
    }
   ],
   "source": [
    "tags = pd.read_csv('Data/tags.csv', usecols=['tag'])\n",
    "tags.value_counts()"
   ]
  },
  {
   "cell_type": "markdown",
   "metadata": {},
   "source": [
    "Importing the movies.csv dataset and using only title and genres column"
   ]
  },
  {
   "cell_type": "code",
   "execution_count": 64,
   "metadata": {},
   "outputs": [
    {
     "data": {
      "text/html": [
       "<div>\n",
       "<style scoped>\n",
       "    .dataframe tbody tr th:only-of-type {\n",
       "        vertical-align: middle;\n",
       "    }\n",
       "\n",
       "    .dataframe tbody tr th {\n",
       "        vertical-align: top;\n",
       "    }\n",
       "\n",
       "    .dataframe thead th {\n",
       "        text-align: right;\n",
       "    }\n",
       "</style>\n",
       "<table border=\"1\" class=\"dataframe\">\n",
       "  <thead>\n",
       "    <tr style=\"text-align: right;\">\n",
       "      <th></th>\n",
       "      <th>title</th>\n",
       "      <th>genres</th>\n",
       "    </tr>\n",
       "  </thead>\n",
       "  <tbody>\n",
       "    <tr>\n",
       "      <th>0</th>\n",
       "      <td>Toy Story (1995)</td>\n",
       "      <td>Adventure|Animation|Children|Comedy|Fantasy</td>\n",
       "    </tr>\n",
       "    <tr>\n",
       "      <th>1</th>\n",
       "      <td>Jumanji (1995)</td>\n",
       "      <td>Adventure|Children|Fantasy</td>\n",
       "    </tr>\n",
       "    <tr>\n",
       "      <th>2</th>\n",
       "      <td>Grumpier Old Men (1995)</td>\n",
       "      <td>Comedy|Romance</td>\n",
       "    </tr>\n",
       "    <tr>\n",
       "      <th>3</th>\n",
       "      <td>Waiting to Exhale (1995)</td>\n",
       "      <td>Comedy|Drama|Romance</td>\n",
       "    </tr>\n",
       "    <tr>\n",
       "      <th>4</th>\n",
       "      <td>Father of the Bride Part II (1995)</td>\n",
       "      <td>Comedy</td>\n",
       "    </tr>\n",
       "  </tbody>\n",
       "</table>\n",
       "</div>"
      ],
      "text/plain": [
       "                                title  \\\n",
       "0                    Toy Story (1995)   \n",
       "1                      Jumanji (1995)   \n",
       "2             Grumpier Old Men (1995)   \n",
       "3            Waiting to Exhale (1995)   \n",
       "4  Father of the Bride Part II (1995)   \n",
       "\n",
       "                                        genres  \n",
       "0  Adventure|Animation|Children|Comedy|Fantasy  \n",
       "1                   Adventure|Children|Fantasy  \n",
       "2                               Comedy|Romance  \n",
       "3                         Comedy|Drama|Romance  \n",
       "4                                       Comedy  "
      ]
     },
     "execution_count": 64,
     "metadata": {},
     "output_type": "execute_result"
    }
   ],
   "source": [
    "# Selecting relevant columns\n",
    "movies = pd.read_csv('Data/movies.csv', usecols=['title', 'genres'])\n",
    "movies.head()"
   ]
  },
  {
   "cell_type": "code",
   "execution_count": 65,
   "metadata": {},
   "outputs": [
    {
     "name": "stdout",
     "output_type": "stream",
     "text": [
      "movies dataset shape: (9742, 2)\n",
      "tags dataset shape: (3683, 1)\n"
     ]
    }
   ],
   "source": [
    "# Checking shapes of relevant datasets\n",
    "print('movies dataset shape:', movies.shape)\n",
    "print('tags dataset shape:', tags.shape)"
   ]
  },
  {
   "cell_type": "code",
   "execution_count": 66,
   "metadata": {},
   "outputs": [
    {
     "name": "stdout",
     "output_type": "stream",
     "text": [
      "Percentage of movies with no Tags: 62.2 %\n"
     ]
    }
   ],
   "source": [
    "# Checking suitability of tags dataset in building model\n",
    "miss_percentage = round((len(movies) - len(tags)) / len(movies) * 100, 1)\n",
    "print(f'Percentage of movies with no Tags: {miss_percentage} %')"
   ]
  },
  {
   "cell_type": "markdown",
   "metadata": {},
   "source": [
    "Given the high missing value percentage in addition to 'In Netflix queue' value that provides not substancial data on movie description, we chose not to use the tags column for our analysis and resorted to sticking with the movies dataset for this model and use title and genres as our movie features\n",
    "\n",
    "**Cleaning up the genres column**"
   ]
  },
  {
   "cell_type": "code",
   "execution_count": 67,
   "metadata": {},
   "outputs": [
    {
     "data": {
      "text/html": [
       "<div>\n",
       "<style scoped>\n",
       "    .dataframe tbody tr th:only-of-type {\n",
       "        vertical-align: middle;\n",
       "    }\n",
       "\n",
       "    .dataframe tbody tr th {\n",
       "        vertical-align: top;\n",
       "    }\n",
       "\n",
       "    .dataframe thead th {\n",
       "        text-align: right;\n",
       "    }\n",
       "</style>\n",
       "<table border=\"1\" class=\"dataframe\">\n",
       "  <thead>\n",
       "    <tr style=\"text-align: right;\">\n",
       "      <th></th>\n",
       "      <th>title</th>\n",
       "      <th>genres</th>\n",
       "    </tr>\n",
       "  </thead>\n",
       "  <tbody>\n",
       "    <tr>\n",
       "      <th>0</th>\n",
       "      <td>Toy Story (1995)</td>\n",
       "      <td>['Adventure', 'Animation', 'Children', 'Comedy...</td>\n",
       "    </tr>\n",
       "    <tr>\n",
       "      <th>1</th>\n",
       "      <td>Jumanji (1995)</td>\n",
       "      <td>['Adventure', 'Children', 'Fantasy']</td>\n",
       "    </tr>\n",
       "    <tr>\n",
       "      <th>2</th>\n",
       "      <td>Grumpier Old Men (1995)</td>\n",
       "      <td>['Comedy', 'Romance']</td>\n",
       "    </tr>\n",
       "    <tr>\n",
       "      <th>3</th>\n",
       "      <td>Waiting to Exhale (1995)</td>\n",
       "      <td>['Comedy', 'Drama', 'Romance']</td>\n",
       "    </tr>\n",
       "    <tr>\n",
       "      <th>4</th>\n",
       "      <td>Father of the Bride Part II (1995)</td>\n",
       "      <td>['Comedy']</td>\n",
       "    </tr>\n",
       "  </tbody>\n",
       "</table>\n",
       "</div>"
      ],
      "text/plain": [
       "                                title  \\\n",
       "0                    Toy Story (1995)   \n",
       "1                      Jumanji (1995)   \n",
       "2             Grumpier Old Men (1995)   \n",
       "3            Waiting to Exhale (1995)   \n",
       "4  Father of the Bride Part II (1995)   \n",
       "\n",
       "                                              genres  \n",
       "0  ['Adventure', 'Animation', 'Children', 'Comedy...  \n",
       "1               ['Adventure', 'Children', 'Fantasy']  \n",
       "2                              ['Comedy', 'Romance']  \n",
       "3                     ['Comedy', 'Drama', 'Romance']  \n",
       "4                                         ['Comedy']  "
      ]
     },
     "execution_count": 67,
     "metadata": {},
     "output_type": "execute_result"
    }
   ],
   "source": [
    "# break up the big genre string into a string array\n",
    "movies['genres'] = movies['genres'].str.split('|')\n",
    "# convert genres to string value\n",
    "movies['genres'] = movies['genres'].fillna('').astype('str')\n",
    "# Preview\n",
    "movies.head()"
   ]
  },
  {
   "cell_type": "markdown",
   "metadata": {},
   "source": [
    "**Building our Content-Based Model based on Genre Feature**"
   ]
  },
  {
   "cell_type": "code",
   "execution_count": 68,
   "metadata": {},
   "outputs": [],
   "source": [
    "# Split the data into training and test sets\n",
    "train, test = train_test_split(movies, test_size=0.2, random_state=42)"
   ]
  },
  {
   "cell_type": "code",
   "execution_count": 69,
   "metadata": {},
   "outputs": [
    {
     "data": {
      "text/plain": [
       "(9742, 23)"
      ]
     },
     "execution_count": 69,
     "metadata": {},
     "output_type": "execute_result"
    }
   ],
   "source": [
    "# Vectorize movie titles using TF-IDF\n",
    "tf = TfidfVectorizer(stop_words='english')\n",
    "tfidf_matrix = tf.fit_transform(movies['genres'])\n",
    "tfidf_matrix.shape"
   ]
  },
  {
   "cell_type": "code",
   "execution_count": 70,
   "metadata": {},
   "outputs": [
    {
     "data": {
      "text/plain": [
       "NearestNeighbors(metric='cosine', n_neighbors=6)"
      ]
     },
     "execution_count": 70,
     "metadata": {},
     "output_type": "execute_result"
    }
   ],
   "source": [
    "# Build a content-based recommendation system using Nearest Neighbors\n",
    "knn_model = NearestNeighbors(n_neighbors=6, metric='cosine')\n",
    "knn_model.fit(tfidf_matrix)"
   ]
  },
  {
   "cell_type": "code",
   "execution_count": 71,
   "metadata": {},
   "outputs": [],
   "source": [
    "# Function to get recommendations for a given movie title\n",
    "def get_recommendations(movie_title):\n",
    "    movie_index = movies[movies['title'] == movie_title].index[0]\n",
    "    distances, indices = knn_model.kneighbors(tfidf_matrix[movie_index])\n",
    "    similar_movies = movies.iloc[indices[0]]['title'].tolist()\n",
    "    return similar_movies[1:]  # Exclude the input movie itself"
   ]
  },
  {
   "cell_type": "code",
   "execution_count": 72,
   "metadata": {},
   "outputs": [
    {
     "data": {
      "text/plain": [
       "[\"Young Poisoner's Handbook, The (1995)\",\n",
       " 'Fireworks (Hana-bi) (1997)',\n",
       " 'Good Night, and Good Luck. (2005)',\n",
       " 'Yards, The (2000)',\n",
       " 'Rocco and His Brothers (Rocco e i suoi fratelli) (1960)']"
      ]
     },
     "execution_count": 72,
     "metadata": {},
     "output_type": "execute_result"
    }
   ],
   "source": [
    "get_recommendations('Shawshank Redemption, The (1994)')"
   ]
  },
  {
   "cell_type": "markdown",
   "metadata": {},
   "source": [
    "We will then evaluate how well our model performed by inspecting the relevance of the recommendation to the users with precisiona and recall metrics using the formula below.\n",
    "\n",
    "$$\\text{Precision} = \\frac{TP}{TP+FP}$$\n",
    "\n",
    "$$\\text{Recall} = \\frac{TP}{TP+FN}$$"
   ]
  },
  {
   "cell_type": "code",
   "execution_count": 73,
   "metadata": {},
   "outputs": [],
   "source": [
    "# Evaluating the recommendation with help of a function\n",
    "def evaluate_recommendations(test):\n",
    "    precision_scores = []\n",
    "    recall_scores = []\n",
    "    # Loop through each row in the test set\n",
    "    for _, row in test.iterrows():\n",
    "        # Extract the actual movie title and genres from the current row\n",
    "        actual_movie_title = row['title']\n",
    "        actual_genres = set(row['genres'].split(', '))\n",
    "        # Getting recommendations for the current movie title using our function get_recommendations\n",
    "        recommended_movies = get_recommendations(actual_movie_title)\n",
    "        recommended_genres = set(movies[movies['title'].isin(recommended_movies)]['genres'].str.split(', ').sum())\n",
    "        # Extracting the genres of the recommended movies from the 'movies' DataFrame\n",
    "        tp = len(actual_genres.intersection(recommended_genres))\n",
    "        fp = len(recommended_genres - actual_genres)\n",
    "        fn = len(actual_genres - recommended_genres)\n",
    "        # Calculating precision and recall for current recommendation with respective formulae\n",
    "        precision = tp / (tp + fp) if (tp + fp) > 0 else 0\n",
    "        recall = tp / (tp + fn) if (tp + fn) > 0 else 0\n",
    "        # Appending precision and recall scores to respective lists\n",
    "        precision_scores.append(precision)\n",
    "        recall_scores.append(recall)\n",
    "     # Getting average scores\n",
    "    average_precision = sum(precision_scores) / len(precision_scores)\n",
    "    average_recall = sum(recall_scores) / len(recall_scores)\n",
    "\n",
    "    return average_precision, average_recall"
   ]
  },
  {
   "cell_type": "code",
   "execution_count": 74,
   "metadata": {},
   "outputs": [
    {
     "name": "stdout",
     "output_type": "stream",
     "text": [
      "Average Precision: 0.9587\n",
      "Average Recall: 0.9948\n"
     ]
    }
   ],
   "source": [
    "# Evaluate the model on the test set\n",
    "precision, recall = evaluate_recommendations(test)\n",
    "\n",
    "print(f'Average Precision: {precision:.4f}')\n",
    "print(f'Average Recall: {recall:.4f}')"
   ]
  },
  {
   "cell_type": "markdown",
   "metadata": {},
   "source": [
    "Our base model has quite high precision and recall values which is a good thing. The high precision score indicates approximately 95.87% of the recommended movies are relevant to users and our recall value is an indication that our model captures approximately 99.48% of the relevant movies.\n",
    "The scores suggest that our content-based recommendation system is performing well. Users are likely to receive recommendations that are not only relevant but also cover a significant portion of the relevant movies available.\n",
    "The next step will be improving our model by tuning introducing the parameter `ngram_range` to see whether our model performance improves."
   ]
  },
  {
   "cell_type": "markdown",
   "metadata": {},
   "source": [
    "**Improving our Model**"
   ]
  },
  {
   "cell_type": "code",
   "execution_count": 75,
   "metadata": {},
   "outputs": [
    {
     "data": {
      "text/plain": [
       "NearestNeighbors(metric='cosine', n_neighbors=6)"
      ]
     },
     "execution_count": 75,
     "metadata": {},
     "output_type": "execute_result"
    }
   ],
   "source": [
    "# Vectorize movie titles using TF-IDF\n",
    "tf = TfidfVectorizer(analyzer='word', ngram_range=(1,2),min_df=0, stop_words='english')\n",
    "tfidf_matrix = tf.fit_transform(movies['genres'])\n",
    "\n",
    "# Build a content-based recommendation system using Nearest Neighbors\n",
    "knn_model = NearestNeighbors(n_neighbors=6, metric='cosine')\n",
    "knn_model.fit(tfidf_matrix)"
   ]
  },
  {
   "cell_type": "code",
   "execution_count": 76,
   "metadata": {},
   "outputs": [
    {
     "data": {
      "text/plain": [
       "['Above the Rim (1994)',\n",
       " 'Young and the Damned, The (Olvidados, Los) (1950)',\n",
       " 'Lilya 4-Ever (Lilja 4-ever) (2002)',\n",
       " 'Rocco and His Brothers (Rocco e i suoi fratelli) (1960)',\n",
       " 'On the Waterfront (1954)']"
      ]
     },
     "execution_count": 76,
     "metadata": {},
     "output_type": "execute_result"
    }
   ],
   "source": [
    "get_recommendations('Shawshank Redemption, The (1994)')"
   ]
  },
  {
   "cell_type": "code",
   "execution_count": 77,
   "metadata": {},
   "outputs": [
    {
     "name": "stdout",
     "output_type": "stream",
     "text": [
      "Average Precision: 0.9462\n",
      "Average Recall: 0.9910\n"
     ]
    }
   ],
   "source": [
    "# Evaluate the model on the test set\n",
    "precision, recall = evaluate_recommendations(test)\n",
    "\n",
    "print(f'Average Precision: {precision:.4f}')\n",
    "print(f'Average Recall: {recall:.4f}')"
   ]
  },
  {
   "cell_type": "markdown",
   "metadata": {},
   "source": [
    "`ngram_range` does not seem to improve the model performance, infact some precision and accuracy is lost by including the parameter in our model. For that reason, we will be sticking to our better model which is the base model in our case"
   ]
  },
  {
   "cell_type": "markdown",
   "metadata": {},
   "source": [
    "# Recommendatons"
   ]
  },
  {
   "cell_type": "markdown",
   "metadata": {},
   "source": [
    "### User Engagement:\n",
    "\n",
    "Enhance user engagement by incorporating user feedback mechanisms. Allow users to rate and provide feedback on recommended movies. This data can be used to continuously refine and improve the recommendation algorithms.\n",
    "### User Interface and Experience:\n",
    "\n",
    "Develop an intuitive and user-friendly interface for users to interact with the recommendation system. This could include personalized dashboards, easy-to-use rating interfaces, and a visually appealing presentation of recommended movies.\n",
    "### Cold Start Problem Mitigation:\n",
    "\n",
    "Implement strategies to address the cold start problem, especially for new users who have limited or no interaction history. Content-based filtering can be particularly useful in such scenarios by recommending movies based on their features.\n",
    "### Regular Model Evaluation:\n",
    "\n",
    "Establish a routine for regular model evaluation using metrics such as RMSE for collaborative filtering and precision/recall for content-based filtering. This ensures that the models are performing well over time and allows for timely adjustments.\n",
    "### Marketing and Promotion:\n",
    "\n",
    "Leverage the recommendation system to inform marketing and promotion strategies. Identify popular genres and movies among users and use this information to target promotions, advertisements, or partnerships with content creators.\n",
    "### Data Privacy and Security:\n",
    "\n",
    "Implement robust data privacy measures, especially when dealing with user ratings and preferences. Clearly communicate your data usage and privacy policies to build trust among users.\n",
    "### Collaboration with Content Creators:\n",
    "\n",
    "Explore partnerships with content creators or studios to obtain early access to new releases. This can give your recommendation system an edge by providing users with personalized recommendations for the latest content.\n",
    "### Community Building:\n",
    "\n",
    "Foster a community around your platform by allowing users to share and discuss their favorite movies. Implement features such as user-generated lists, reviews, and forums to create a sense of belonging among users.\n",
    "### Performance Monitoring:\n",
    "\n",
    "Implement monitoring tools to track the performance of your recommendation system in real-time. Detect anomalies, user behavior changes, or system errors promptly and take corrective actions.\n",
    "### Scalability:\n",
    "\n",
    "Design your recommendation system with scalability in mind to accommodate a growing user base and an expanding movie database. This ensures that the system can handle increased loads without sacrificing performance.\n"
   ]
  },
  {
   "cell_type": "markdown",
   "metadata": {},
   "source": [
    "# Conclusion\n",
    "In concluding this project, we've delved into the intricacies of recommender systems, exploring the collaborative-filtering approach and its variants. Through the journey of employing memory-based methods, model-based methods like Singular Value Decomposition (SVD), and exploring the nuances of content-based filtering, we've uncovered the strengths and limitations of each technique.\n",
    "\n",
    "The findings underscore the importance of recognizing the unique challenges posed by collaborative filtering, such as the cold-start problem, and the need for supplementary strategies to address these issues. While SVD emerged as a promising model for collaborative filtering, we also explored content-based filtering to mitigate challenges like the cold-start problem.\n",
    "\n",
    "Our exploration further extends to the realm of hybrid recommender systems, recognizing the value of amalgamating collaborative and content-based approaches. The synergy of different algorithms and methodologies in a hybrid model offers a more nuanced and adaptable solution, overcoming individual limitations.\n",
    "\n",
    "As we navigated through the intricacies of our dataset, making predictions, and generating recommendations, we've not only gained technical insights but also confronted real-world challenges. The user cold-start problem and item cold-start problem have been acknowledged, prompting us to explore content-based systems to offer more inclusive recommendations.\n",
    "\n",
    "In the dynamic landscape of recommendation systems, this project serves as a foundation for understanding and implementing diverse methodologies. The hybrid approach advocated here provides a robust strategy, ensuring our system remains versatile and resilient to the evolving needs of users.\n",
    "\n",
    "In essence, this project's conclusion is a call to embrace the diversity of recommender system methodologies. By understanding the strengths and weaknesses of different approaches, we position ourselves to craft a more comprehensive, user-centric, and enduring solution for recommendation challenges."
   ]
  }
 ],
 "metadata": {
  "colab": {
   "authorship_tag": "ABX9TyMbLoH+YB0O2kMMBM5STBmX",
   "include_colab_link": true,
   "mount_file_id": "1w6Y3-xFOeZwhVe8peLe4DmhK9rjz0SVQ",
   "provenance": []
  },
  "gpuClass": "standard",
  "kernelspec": {
   "display_name": "Python 3",
   "language": "python",
   "name": "python3"
  },
  "language_info": {
   "codemirror_mode": {
    "name": "ipython",
    "version": 3
   },
   "file_extension": ".py",
   "mimetype": "text/x-python",
   "name": "python",
   "nbconvert_exporter": "python",
   "pygments_lexer": "ipython3",
   "version": "3.8.5"
  }
 },
 "nbformat": 4,
 "nbformat_minor": 1
}
